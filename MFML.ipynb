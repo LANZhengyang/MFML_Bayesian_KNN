{
  "nbformat": 4,
  "nbformat_minor": 0,
  "metadata": {
    "colab": {
      "name": "MFML.ipynb",
      "provenance": [],
      "collapsed_sections": [],
      "include_colab_link": true
    },
    "kernelspec": {
      "name": "python3",
      "display_name": "Python 3"
    }
  },
  "cells": [
    {
      "cell_type": "markdown",
      "metadata": {
        "id": "view-in-github",
        "colab_type": "text"
      },
      "source": [
        "<a href=\"https://colab.research.google.com/github/LANZhengyang/MFML_Bayesian_KNN/blob/master/MFML.ipynb\" target=\"_parent\"><img src=\"https://colab.research.google.com/assets/colab-badge.svg\" alt=\"Open In Colab\"/></a>"
      ]
    },
    {
      "cell_type": "code",
      "metadata": {
        "id": "cDwufOa4m99p",
        "colab_type": "code",
        "colab": {}
      },
      "source": [
        "import numpy as np\n",
        "import matplotlib.pyplot as plt\n",
        "from matplotlib.colors import ListedColormap\n",
        "from sklearn import neighbors, datasets\n",
        "from functools import reduce"
      ],
      "execution_count": 0,
      "outputs": []
    },
    {
      "cell_type": "markdown",
      "metadata": {
        "id": "4pMMLT0clnGs",
        "colab_type": "text"
      },
      "source": [
        "## Original KNN"
      ]
    },
    {
      "cell_type": "code",
      "metadata": {
        "id": "2_DeqYwSnGmj",
        "colab_type": "code",
        "colab": {
          "base_uri": "https://localhost:8080/",
          "height": 301
        },
        "outputId": "81149d19-c38b-4c71-cad9-d81cdf940bfb"
      },
      "source": [
        "iris = datasets.load_iris()\n",
        "X = iris.data\n",
        "y = iris.target\n",
        "\n",
        "all_error = []\n",
        "# test k from 2 to 50\n",
        "for k in range(2,50):\n",
        "  sum=0\n",
        "  for i in range(len(y)):\n",
        "    # Do the cross validation\n",
        "    Train_x=np.delete(X, i, axis=0)\n",
        "    Train_y=np.delete(y, i, axis=0)\n",
        "    neigh = neighbors.KNeighborsClassifier(n_neighbors=k)\n",
        "    neigh.fit(Train_x, Train_y)\n",
        "    if neigh.predict(X[i][np.newaxis, :]) != y[i]:\n",
        "      sum=sum+1\n",
        "  sum = sum/ len(y)  \n",
        "  all_error.append(sum)\n",
        "\n",
        "plt.bar(range(2,50),all_error)\n",
        "plt.xlabel(\"k\")\n",
        "plt.ylabel(\"Error rate\")"
      ],
      "execution_count": 278,
      "outputs": [
        {
          "output_type": "execute_result",
          "data": {
            "text/plain": [
              "Text(0, 0.5, 'Error rate')"
            ]
          },
          "metadata": {
            "tags": []
          },
          "execution_count": 278
        },
        {
          "output_type": "display_data",
          "data": {
            "image/png": "[encoded data removed]",
            "text/plain": [
              "<Figure size 432x288 with 1 Axes>"
            ]
          },
          "metadata": {
            "tags": [],
            "needs_background": "light"
          }
        }
      ]
    },
    {
      "cell_type": "code",
      "metadata": {
        "id": "UjfVaUliktA2",
        "colab_type": "code",
        "colab": {}
      },
      "source": [
        "class knn():\n",
        "    def fit(self,X,y,n):\n",
        "        self.X = X\n",
        "        self.y=y\n",
        "        self.n=n\n",
        "\n",
        "    def distance(self,x_1,x_2):        \n",
        "        return np.linalg.norm(x_1-x_2,ord=self.X.shape[1])   \n",
        "\n",
        "    def get_neighbours(self,x):        \n",
        "        all_distance = []\n",
        "        for i in range(self.y.shape[0]):\n",
        "            all_distance.append(self.distance(x,self.X[i]))       \n",
        "        return np.argsort(all_distance)[:self.n]\n",
        "\n",
        "    def potential_function(self,x,y_i):\n",
        "      neighbors=self.get_neighbours(x)\n",
        "\n",
        "      return np.sum(y[neighbors] == y_i)\n",
        "\n",
        "    def mutual_neighbours(self,index,y_i):\n",
        "\n",
        "      classifier = knn()\n",
        "      Train_x=np.delete(self.X, index, axis=0)\n",
        "      Train_y=np.delete(self.y, index, axis=0)\n",
        "      classifier.fit(Train_x,Train_y,self.n)\n",
        "      neighbors_index = classifier.get_neighbours(self.X[index])\n",
        "      number_mutual_neighbours=0\n",
        "      for i in range(self.n):\n",
        "        Train_x_temp = self.X\n",
        "        Train_y_temp = self.y\n",
        "        Train_x_temp=np.delete(Train_x_temp, neighbors_index[i], axis=0)\n",
        "        Train_y_temp=np.delete(Train_y_temp, neighbors_index[i], axis=0)\n",
        "        classifier_temp = knn()\n",
        "        classifier_temp.fit(Train_x_temp,Train_y_temp,self.n)\n",
        "        if self.X[index] in Train_x_temp[classifier_temp.get_neighbours(self.X[neighbors_index[i]])]:\n",
        "          if y_i == y[neighbors_index[i]] :       \n",
        "            number_mutual_neighbours+=1\n",
        "      return number_mutual_neighbours\n",
        "\n",
        "#formula 1, when get = conditional\n",
        "def distribution(index,beta,X,y,k,get=\"joint\",y_i=0):\n",
        "  classifier = knn()\n",
        "  Train_x=np.delete(X, index, axis=0)\n",
        "  Train_y=np.delete(y, index, axis=0)\n",
        "  classifier.fit(Train_x,Train_y,k)\n",
        "  all_dis=[]\n",
        "  for j in range(3):\n",
        "    pr_y_i_up = np.exp(beta*classifier.potential_function(X[index],j)/k)\n",
        "    pr_y_i_down=0\n",
        "    for i in range(3):\n",
        "      pr_y_i_down = pr_y_i_down + (np.exp(beta*classifier.potential_function(X[index],i)/k))\n",
        "    all_dis.append(pr_y_i_up/pr_y_i_down)\n",
        "  z = np.sum(all_dis)\n",
        "  if get==\"joint\":\n",
        "    return all_dis/z\n",
        "  elif get ==\"conditional\":\n",
        "    return all_dis[y_i]/z\n",
        "\n",
        "#formula 2\n",
        "def combined_predictors(X_given,beta,k,X,y,y_given):\n",
        "  predict_list=[]\n",
        "  Train_x=np.delete(X, X_given, axis=0)\n",
        "  Train_y=np.delete(y, X_given, axis=0)\n",
        "  predict_list=[]\n",
        "  for i in range(len(X_given)):\n",
        "    predict_list.append(distribution(index=X_given[i],beta=beta,X=X,y=y,k=k,get=\"conditional\",y_i=y_given[i]))\n",
        "  return reduce(lambda x,y:x * y,predict_list)\n",
        "\n",
        "#formula 4\n",
        "def distribution_Boltzmann(index,beta,X,y,k,get=\"conditional\",y_i=0):\n",
        "\n",
        "  classifier = knn()\n",
        "  classifier.fit(X,y,k)\n",
        "  classifier_temp = knn()\n",
        "  Train_x=np.delete(X, index, axis=0)\n",
        "  Train_y=np.delete(y, index, axis=0)\n",
        "  classifier_temp.fit(Train_x,Train_y,k)\n",
        "  all_dis=[]\n",
        "  neighbors_index = classifier_temp.get_neighbours(X[index])\n",
        "  for j in range(3):\n",
        "    pr_y_i_left = classifier_temp.potential_function(X[index],j)\n",
        "    pr_y_i_right= classifier.mutual_neighbours(index,y_i=y[index])\n",
        "  #  print(pr_y_i_right)\n",
        "    all_dis.append(np.exp((beta/k)*(pr_y_i_left+pr_y_i_right)))\n",
        "  z = np.sum(all_dis) \n",
        " # print(z)\n",
        "  if get==\"joint\":\n",
        "\n",
        "    return all_dis/z\n",
        "  elif get ==\"conditional\":\n",
        "    return all_dis[y_i]/z\n",
        "\n",
        "\n",
        "def Z(beta,k,X,y):\n",
        "  s=0\n",
        "  for i in range(len(y)):\n",
        "    Train_x_temp = X\n",
        "    Train_y_temp = y\n",
        "    Train_x_temp=np.delete(X, i, axis=0)\n",
        "    Train_y_temp=np.delete(y, i, axis=0)\n",
        "    classifier_temp = knn()\n",
        "    classifier_temp.fit(Train_x_temp,Train_y_temp,k)    \n",
        "    s+= classifier_temp.potential_function(X[i],y[i]) /k\n",
        "\n"
      ],
      "execution_count": 0,
      "outputs": []
    },
    {
      "cell_type": "code",
      "metadata": {
        "id": "MVLSVQkm_dCx",
        "colab_type": "code",
        "colab": {}
      },
      "source": [
        "def get_S(X=X,y=y,k=40):\n",
        "    s = 0\n",
        "    for j in range(len(y)):\n",
        "        Train_x = np.delete(X, j, axis=0)\n",
        "        Train_y = np.delete(y, j, axis=0)\n",
        "        classifier_neighbours = knn()\n",
        "        classifier_neighbours.fit(Train_x,Train_y,k)\n",
        "        for i in range(k):\n",
        "            s += classifier.potential_function(X[j], y[j])\n",
        "    return s/k"
      ],
      "execution_count": 0,
      "outputs": []
    },
    {
      "cell_type": "code",
      "metadata": {
        "id": "MnJMytAy_jFU",
        "colab_type": "code",
        "colab": {
          "base_uri": "https://localhost:8080/",
          "height": 35
        },
        "outputId": "45b5e271-8964-48d5-dd08-b135673cfc3e"
      },
      "source": [
        "get_S(X=X[:90],y=y[:90],k=30)"
      ],
      "execution_count": 280,
      "outputs": [
        {
          "output_type": "execute_result",
          "data": {
            "text/plain": [
              "865.0"
            ]
          },
          "metadata": {
            "tags": []
          },
          "execution_count": 280
        }
      ]
    },
    {
      "cell_type": "code",
      "metadata": {
        "id": "6zBJK0WWKaDK",
        "colab_type": "code",
        "outputId": "0048ec93-3750-4af4-c169-c98e613c55a9",
        "colab": {
          "base_uri": "https://localhost:8080/",
          "height": 35
        }
      },
      "source": [
        "distribution_Boltzmann(index=106,beta=2,X=X,y=y,k=10,get=\"joint\",y_i=2)"
      ],
      "execution_count": 197,
      "outputs": [
        {
          "output_type": "execute_result",
          "data": {
            "text/plain": [
              "array([0.12090363, 0.73142434, 0.14767203])"
            ]
          },
          "metadata": {
            "tags": []
          },
          "execution_count": 197
        }
      ]
    },
    {
      "cell_type": "code",
      "metadata": {
        "id": "dLA3ujIETghC",
        "colab_type": "code",
        "colab": {
          "base_uri": "https://localhost:8080/",
          "height": 145
        },
        "outputId": "5dd79df5-2ade-4a98-9e72-20ff73e5eb45"
      },
      "source": [
        "def distribution(index,beta,X,y,k,get=\"joint\",y_i=0):\n",
        "  classifier = knn()\n",
        "  Train_x=np.delete(X, index, axis=0)\n",
        "  Train_y=np.delete(y, index, axis=0)\n",
        "  classifier.fit(Train_x,Train_y,k)\n",
        "  all_dis=[]\n",
        "  for j in range(3):\n",
        "    pr_y_i_up = np.exp(beta*classifier.potential_function(X[index],j)/k)\n",
        "    pr_y_i_down=0\n",
        "    for i in range(3):\n",
        "      pr_y_i_down = pr_y_i_down + (np.exp(beta*classifier.potential_function(X[index],i)/k))\n",
        "    all_dis.append(pr_y_i_up/pr_y_i_down)\n",
        "  z = np.sum(all_dis)\n",
        "  if get==\"joint\":\n",
        "    return all_dis/z\n",
        "  elif get ==\"conditional\":\n",
        "    return all_dis[y_i]/z"
      ],
      "execution_count": 222,
      "outputs": [
        {
          "output_type": "execute_result",
          "data": {
            "text/plain": [
              "array([[[0., 0.],\n",
              "        [0., 0.],\n",
              "        [0., 0.]],\n",
              "\n",
              "       [[0., 0.],\n",
              "        [0., 0.],\n",
              "        [0., 0.]]])"
            ]
          },
          "metadata": {
            "tags": []
          },
          "execution_count": 222
        }
      ]
    },
    {
      "cell_type": "code",
      "metadata": {
        "id": "O7s_ThkaVv_F",
        "colab_type": "code",
        "colab": {
          "base_uri": "https://localhost:8080/",
          "height": 35
        },
        "outputId": "bd517872-f7a1-4d3e-f051-7fbfe7625f53"
      },
      "source": [
        "distribution(index=1,beta=2,X=X,y=y,k=10,get=\"conditional\",y_i=0)"
      ],
      "execution_count": 271,
      "outputs": [
        {
          "output_type": "execute_result",
          "data": {
            "text/plain": [
              "0.7869860421615985"
            ]
          },
          "metadata": {
            "tags": []
          },
          "execution_count": 271
        }
      ]
    },
    {
      "cell_type": "code",
      "metadata": {
        "id": "PHGhC5grWKS7",
        "colab_type": "code",
        "colab": {}
      },
      "source": [
        "para_all=np.zeros([len(range(1,12)),len(range(10,25))])"
      ],
      "execution_count": 0,
      "outputs": []
    },
    {
      "cell_type": "code",
      "metadata": {
        "id": "bVFn_t678kjc",
        "colab_type": "code",
        "outputId": "69f1e4ab-7aec-4730-bc85-ba5ad4b95ca1",
        "colab": {
          "base_uri": "https://localhost:8080/",
          "height": 1000
        }
      },
      "source": [
        "para=[0,0]\n",
        "proba_max=0\n",
        "for beta in range(1,12):\n",
        "  for k in range(10,25):\n",
        "    proba=1    \n",
        "    for n in range(len(y)):\n",
        "      proba=proba*distribution(index=n,beta=beta,X=X,y=y,k=k,get=\"conditional\",y_i=y[n])\n",
        "    print(\"proba(likelihood)=\",proba,\"beta=\",beta,\"k=\",k)\n",
        "    para_all[beta-1][k-10]=proba\n",
        "    if proba>proba_max:\n",
        "      proba_max = proba \n",
        "      para[0]=beta\n",
        "      para[1]=k\n",
        "print(\"max_likelihood=\",proba)\n",
        "print(\"with beta=\",para[0],\"k=\",para[1])"
      ],
      "execution_count": 273,
      "outputs": [
        {
          "output_type": "stream",
          "text": [
            "proba(likelihood)= 1.2385143791890898e-39 beta= 1 k= 10\n",
            "proba(likelihood)= 7.750105722033905e-40 beta= 1 k= 11\n",
            "proba(likelihood)= 5.083551637724854e-40 beta= 1 k= 12\n",
            "proba(likelihood)= 3.5246363027589834e-40 beta= 1 k= 13\n",
            "proba(likelihood)= 2.8297043935636722e-40 beta= 1 k= 14\n",
            "proba(likelihood)= 1.3272691270828935e-40 beta= 1 k= 15\n",
            "proba(likelihood)= 8.855695986004816e-41 beta= 1 k= 16\n",
            "proba(likelihood)= 7.471982477356215e-41 beta= 1 k= 17\n",
            "proba(likelihood)= 5.908912964815698e-41 beta= 1 k= 18\n",
            "proba(likelihood)= 6.089920658362965e-41 beta= 1 k= 19\n",
            "proba(likelihood)= 4.928711711014961e-41 beta= 1 k= 20\n",
            "proba(likelihood)= 3.473779793773046e-41 beta= 1 k= 21\n",
            "proba(likelihood)= 2.793813894903079e-41 beta= 1 k= 22\n",
            "proba(likelihood)= 1.8341120668097494e-41 beta= 1 k= 23\n",
            "proba(likelihood)= 1.406010461358923e-41 beta= 1 k= 24\n",
            "proba(likelihood)= 9.559837034883353e-21 beta= 2 k= 10\n",
            "proba(likelihood)= 5.4937603033144456e-21 beta= 2 k= 11\n",
            "proba(likelihood)= 3.0003926021372464e-21 beta= 2 k= 12\n",
            "proba(likelihood)= 2.023847251876903e-21 beta= 2 k= 13\n",
            "proba(likelihood)= 1.6070031117530353e-21 beta= 2 k= 14\n",
            "proba(likelihood)= 5.261662124357834e-22 beta= 2 k= 15\n",
            "proba(likelihood)= 2.6173597352883974e-22 beta= 2 k= 16\n",
            "proba(likelihood)= 2.296919100981634e-22 beta= 2 k= 17\n",
            "proba(likelihood)= 1.6688423906344722e-22 beta= 2 k= 18\n",
            "proba(likelihood)= 1.9292878485556863e-22 beta= 2 k= 19\n",
            "proba(likelihood)= 1.408006979156115e-22 beta= 2 k= 20\n",
            "proba(likelihood)= 8.78121904382665e-23 beta= 2 k= 21\n",
            "proba(likelihood)= 6.047619674572124e-23 beta= 2 k= 22\n",
            "proba(likelihood)= 3.234206737349221e-23 beta= 2 k= 23\n",
            "proba(likelihood)= 2.4757544572944814e-23 beta= 2 k= 24\n",
            "proba(likelihood)= 7.985629827270281e-12 beta= 3 k= 10\n",
            "proba(likelihood)= 5.368580863686492e-12 beta= 3 k= 11\n",
            "proba(likelihood)= 2.7161227544498758e-12 beta= 3 k= 12\n",
            "proba(likelihood)= 2.1247794053097396e-12 beta= 3 k= 13\n",
            "proba(likelihood)= 1.901977675085539e-12 beta= 3 k= 14\n",
            "proba(likelihood)= 5.829689957867926e-13 beta= 3 k= 15\n",
            "proba(likelihood)= 2.3904416825632205e-13 beta= 3 k= 16\n",
            "proba(likelihood)= 2.4129565679514747e-13 beta= 3 k= 17\n",
            "proba(likelihood)= 1.7976677611588013e-13 beta= 3 k= 18\n",
            "proba(likelihood)= 2.469511013726634e-13 beta= 3 k= 19\n",
            "proba(likelihood)= 1.7840581731703644e-13 beta= 3 k= 20\n",
            "proba(likelihood)= 1.0936099316035177e-13 beta= 3 k= 21\n",
            "proba(likelihood)= 6.725581524278063e-14 beta= 3 k= 22\n",
            "proba(likelihood)= 3.3337771484207705e-14 beta= 3 k= 23\n",
            "proba(likelihood)= 2.954773640325525e-14 beta= 3 k= 24\n",
            "proba(likelihood)= 3.2861760019060805e-08 beta= 4 k= 10\n",
            "proba(likelihood)= 2.8370926968693966e-08 beta= 4 k= 11\n",
            "proba(likelihood)= 1.3330425010215114e-08 beta= 4 k= 12\n",
            "proba(likelihood)= 1.2314118303632987e-08 beta= 4 k= 13\n",
            "proba(likelihood)= 1.2900810643590885e-08 beta= 4 k= 14\n",
            "proba(likelihood)= 4.248759887967526e-09 beta= 4 k= 15\n",
            "proba(likelihood)= 1.5344287871872884e-09 beta= 4 k= 16\n",
            "proba(likelihood)= 1.7956141197073782e-09 beta= 4 k= 17\n",
            "proba(likelihood)= 1.447811352260141e-09 beta= 4 k= 18\n",
            "proba(likelihood)= 2.421817512806948e-09 beta= 4 k= 19\n",
            "proba(likelihood)= 1.833517943931115e-09 beta= 4 k= 20\n",
            "proba(likelihood)= 1.1075296729206085e-09 beta= 4 k= 21\n",
            "proba(likelihood)= 6.179218147435317e-10 beta= 4 k= 22\n",
            "proba(likelihood)= 2.95087414356573e-10 beta= 4 k= 23\n",
            "proba(likelihood)= 3.1424947003468026e-10 beta= 4 k= 24\n",
            "proba(likelihood)= 5.408021930523624e-07 beta= 5 k= 10\n",
            "proba(likelihood)= 6.132650163783368e-07 beta= 5 k= 11\n",
            "proba(likelihood)= 2.616230272666693e-07 beta= 5 k= 12\n",
            "proba(likelihood)= 2.7415630533362267e-07 beta= 5 k= 13\n",
            "proba(likelihood)= 3.326163724637241e-07 beta= 5 k= 14\n",
            "proba(likelihood)= 1.219253752409506e-07 beta= 5 k= 15\n",
            "proba(likelihood)= 4.0077377642723776e-08 beta= 5 k= 16\n",
            "proba(likelihood)= 5.3231461750655646e-08 beta= 5 k= 17\n",
            "proba(likelihood)= 4.7294950543583525e-08 beta= 5 k= 18\n",
            "proba(likelihood)= 9.683931094042087e-08 beta= 5 k= 19\n",
            "proba(likelihood)= 7.889475747105395e-08 beta= 5 k= 20\n",
            "proba(likelihood)= 4.575757582010877e-08 beta= 5 k= 21\n",
            "proba(likelihood)= 2.318109108854934e-08 beta= 5 k= 22\n",
            "proba(likelihood)= 1.0630973323486964e-08 beta= 5 k= 23\n",
            "proba(likelihood)= 1.3522455970298111e-08 beta= 5 k= 24\n",
            "proba(likelihood)= 8.427818438603067e-07 beta= 6 k= 10\n",
            "proba(likelihood)= 1.25518368078592e-06 beta= 6 k= 11\n",
            "proba(likelihood)= 4.787049762551065e-07 beta= 6 k= 12\n",
            "proba(likelihood)= 5.461811460524803e-07 beta= 6 k= 13\n",
            "proba(likelihood)= 7.508594830605332e-07 beta= 6 k= 14\n",
            "proba(likelihood)= 3.037669725906076e-07 beta= 6 k= 15\n",
            "proba(likelihood)= 9.196745470930725e-08 beta= 6 k= 16\n",
            "proba(likelihood)= 1.358319533911925e-07 beta= 6 k= 17\n",
            "proba(likelihood)= 1.3320972232492346e-07 beta= 6 k= 18\n",
            "proba(likelihood)= 3.329670349335591e-07 beta= 6 k= 19\n",
            "proba(likelihood)= 2.949660687338268e-07 beta= 6 k= 20\n",
            "proba(likelihood)= 1.608941727044398e-07 beta= 6 k= 21\n",
            "proba(likelihood)= 7.370308612739868e-08 beta= 6 k= 22\n",
            "proba(likelihood)= 3.202235827379018e-08 beta= 6 k= 23\n",
            "proba(likelihood)= 4.809267166403327e-08 beta= 6 k= 24\n",
            "proba(likelihood)= 4.771243054079255e-07 beta= 7 k= 10\n",
            "proba(likelihood)= 9.277704933548433e-07 beta= 7 k= 11\n",
            "proba(likelihood)= 3.1454808287691256e-07 beta= 7 k= 12\n",
            "proba(likelihood)= 3.800299975463148e-07 beta= 7 k= 13\n",
            "proba(likelihood)= 5.813152821708648e-07 beta= 7 k= 14\n",
            "proba(likelihood)= 2.544156791170211e-07 beta= 7 k= 15\n",
            "proba(likelihood)= 7.109059518386936e-08 beta= 7 k= 16\n",
            "proba(likelihood)= 1.1504357499349627e-07 beta= 7 k= 17\n",
            "proba(likelihood)= 1.240618347145344e-07 beta= 7 k= 18\n",
            "proba(likelihood)= 3.7646655405684727e-07 beta= 7 k= 19\n",
            "proba(likelihood)= 3.642496862555965e-07 beta= 7 k= 20\n",
            "proba(likelihood)= 1.8487192070294175e-07 beta= 7 k= 21\n",
            "proba(likelihood)= 7.622739920090129e-08 beta= 7 k= 22\n",
            "proba(likelihood)= 3.098601026657135e-08 beta= 7 k= 23\n",
            "proba(likelihood)= 5.4549442973940555e-08 beta= 7 k= 24\n",
            "proba(likelihood)= 1.7136917669442883e-07 beta= 8 k= 10\n",
            "proba(likelihood)= 4.32007218593548e-07 beta= 8 k= 11\n",
            "proba(likelihood)= 1.3024072295822845e-07 beta= 8 k= 12\n",
            "proba(likelihood)= 1.6393124268618511e-07 beta= 8 k= 13\n",
            "proba(likelihood)= 2.7571022688941943e-07 beta= 8 k= 14\n",
            "proba(likelihood)= 1.2807461041773915e-07 beta= 8 k= 15\n",
            "proba(likelihood)= 3.298315605013916e-08 beta= 8 k= 16\n",
            "proba(likelihood)= 5.7861992741828513e-08 beta= 8 k= 17\n",
            "proba(likelihood)= 6.829042225145025e-08 beta= 8 k= 18\n",
            "proba(likelihood)= 2.4998420132645154e-07 beta= 8 k= 19\n",
            "proba(likelihood)= 2.6499617681800767e-07 beta= 8 k= 20\n",
            "proba(likelihood)= 1.246657304063014e-07 beta= 8 k= 21\n",
            "proba(likelihood)= 4.610757049502054e-08 beta= 8 k= 22\n",
            "proba(likelihood)= 1.7378964899202833e-08 beta= 8 k= 23\n",
            "proba(likelihood)= 3.576883877412455e-08 beta= 8 k= 24\n",
            "proba(likelihood)= 4.939978951923979e-08 beta= 9 k= 10\n",
            "proba(likelihood)= 1.6031716053381815e-07 beta= 9 k= 11\n",
            "proba(likelihood)= 4.310207149161053e-08 beta= 9 k= 12\n",
            "proba(likelihood)= 5.601404816532844e-08 beta= 9 k= 13\n",
            "proba(likelihood)= 1.0287131744298299e-07 beta= 9 k= 14\n",
            "proba(likelihood)= 4.997645788853403e-08 beta= 9 k= 15\n",
            "proba(likelihood)= 1.1838478795771116e-08 beta= 9 k= 16\n",
            "proba(likelihood)= 2.23245255845541e-08 beta= 9 k= 17\n",
            "proba(likelihood)= 2.8717663260551412e-08 beta= 9 k= 18\n",
            "proba(likelihood)= 1.260114114912097e-07 beta= 9 k= 19\n",
            "proba(likelihood)= 1.4683237581197085e-07 beta= 9 k= 20\n",
            "proba(likelihood)= 6.401173015840868e-08 beta= 9 k= 21\n",
            "proba(likelihood)= 2.1187746846683658e-08 beta= 9 k= 22\n",
            "proba(likelihood)= 7.363542960832211e-09 beta= 9 k= 23\n",
            "proba(likelihood)= 1.772582724679479e-08 beta= 9 k= 24\n",
            "proba(likelihood)= 1.2674730466122346e-08 beta= 10 k= 10\n",
            "proba(likelihood)= 5.260124867048548e-08 beta= 10 k= 11\n",
            "proba(likelihood)= 1.2657777324073611e-08 beta= 10 k= 12\n",
            "proba(likelihood)= 1.6901010252574968e-08 beta= 10 k= 13\n",
            "proba(likelihood)= 3.376879309255146e-08 beta= 10 k= 14\n",
            "proba(likelihood)= 1.6978086353997087e-08 beta= 10 k= 15\n",
            "proba(likelihood)= 3.693666263562138e-09 beta= 10 k= 16\n",
            "proba(likelihood)= 7.433005236383536e-09 beta= 10 k= 17\n",
            "proba(likelihood)= 1.0388020116354328e-08 beta= 10 k= 18\n",
            "proba(likelihood)= 5.4313715267832735e-08 beta= 10 k= 19\n",
            "proba(likelihood)= 6.98221059811824e-08 beta= 10 k= 20\n",
            "proba(likelihood)= 2.8244324185826894e-08 beta= 10 k= 21\n",
            "proba(likelihood)= 8.355730114262727e-09 beta= 10 k= 22\n",
            "proba(likelihood)= 2.669146761655036e-09 beta= 10 k= 23\n",
            "proba(likelihood)= 7.53094278454946e-09 beta= 10 k= 24\n",
            "proba(likelihood)= 3.038358707390194e-09 beta= 11 k= 10\n",
            "proba(likelihood)= 1.6025336283411557e-08 beta= 11 k= 11\n",
            "proba(likelihood)= 3.4638358179568266e-09 beta= 11 k= 12\n",
            "proba(likelihood)= 4.738680536179804e-09 beta= 11 k= 13\n",
            "proba(likelihood)= 1.0281148664635353e-08 beta= 11 k= 14\n",
            "proba(likelihood)= 5.311623873291408e-09 beta= 11 k= 15\n",
            "proba(likelihood)= 1.0603679639618921e-09 beta= 11 k= 16\n",
            "proba(likelihood)= 2.262149244556308e-09 beta= 11 k= 17\n",
            "proba(likelihood)= 3.426332223535164e-09 beta= 11 k= 18\n",
            "proba(likelihood)= 2.1231271633246815e-08 beta= 11 k= 19\n",
            "proba(likelihood)= 3.022524190330786e-08 beta= 11 k= 20\n",
            "proba(likelihood)= 1.1365664735659877e-08 beta= 11 k= 21\n",
            "proba(likelihood)= 3.003234615673595e-09 beta= 11 k= 22\n",
            "proba(likelihood)= 8.805329789432408e-10 beta= 11 k= 23\n",
            "proba(likelihood)= 2.920451599690041e-09 beta= 11 k= 24\n",
            "max_likelihood= 2.920451599690041e-09\n",
            "with beta= 6 k= 11\n"
          ],
          "name": "stdout"
        }
      ]
    },
    {
      "cell_type": "code",
      "metadata": {
        "id": "dwzqZPqcBYb4",
        "colab_type": "code",
        "outputId": "c99123fd-837e-418f-bfc4-7e89848bcda0",
        "colab": {
          "base_uri": "https://localhost:8080/",
          "height": 525
        }
      },
      "source": [
        "para=[0,0]\n",
        "proba_max=0\n",
        "for beta in range(1,4):\n",
        "  for k in range(15,25):\n",
        "    proba=1    \n",
        "    for n in range(len(y)):\n",
        "      proba=proba*distribution_Boltzmann(index=n,beta=beta,X=X,y=y,k=k,get=\"conditional\",y_i=y[n])\n",
        "    print(\"proba(likelihood)=\",proba,\"beta=\",beta,\"k=\",k)\n",
        "    if proba>proba_max:\n",
        "      proba_max = proba \n",
        "      para[0]=beta\n",
        "      para[1]=k\n",
        "print(\"max_likelihood=\",proba)\n",
        "print(\"with beta=\",para[0],\"k=\",para[1])"
      ],
      "execution_count": 227,
      "outputs": [
        {
          "output_type": "error",
          "ename": "ValueError",
          "evalue": "ignored",
          "traceback": [
            "\u001b[0;31m---------------------------------------------------------------------------\u001b[0m",
            "\u001b[0;31mValueError\u001b[0m                                Traceback (most recent call last)",
            "\u001b[0;32m<ipython-input-227-5dc3f7fbfc90>\u001b[0m in \u001b[0;36m<module>\u001b[0;34m()\u001b[0m\n\u001b[1;32m      5\u001b[0m     \u001b[0mproba\u001b[0m\u001b[0;34m=\u001b[0m\u001b[0;36m1\u001b[0m\u001b[0;34m\u001b[0m\u001b[0;34m\u001b[0m\u001b[0m\n\u001b[1;32m      6\u001b[0m     \u001b[0;32mfor\u001b[0m \u001b[0mn\u001b[0m \u001b[0;32min\u001b[0m \u001b[0mrange\u001b[0m\u001b[0;34m(\u001b[0m\u001b[0mlen\u001b[0m\u001b[0;34m(\u001b[0m\u001b[0my\u001b[0m\u001b[0;34m)\u001b[0m\u001b[0;34m)\u001b[0m\u001b[0;34m:\u001b[0m\u001b[0;34m\u001b[0m\u001b[0;34m\u001b[0m\u001b[0m\n\u001b[0;32m----> 7\u001b[0;31m       \u001b[0mproba\u001b[0m\u001b[0;34m=\u001b[0m\u001b[0mproba\u001b[0m\u001b[0;34m*\u001b[0m\u001b[0mdistribution_Boltzmann\u001b[0m\u001b[0;34m(\u001b[0m\u001b[0mindex\u001b[0m\u001b[0;34m=\u001b[0m\u001b[0mn\u001b[0m\u001b[0;34m,\u001b[0m\u001b[0mbeta\u001b[0m\u001b[0;34m=\u001b[0m\u001b[0mbeta\u001b[0m\u001b[0;34m,\u001b[0m\u001b[0mX\u001b[0m\u001b[0;34m=\u001b[0m\u001b[0mX\u001b[0m\u001b[0;34m,\u001b[0m\u001b[0my\u001b[0m\u001b[0;34m=\u001b[0m\u001b[0my\u001b[0m\u001b[0;34m,\u001b[0m\u001b[0mk\u001b[0m\u001b[0;34m=\u001b[0m\u001b[0mk\u001b[0m\u001b[0;34m,\u001b[0m\u001b[0mget\u001b[0m\u001b[0;34m=\u001b[0m\u001b[0;34m\"conditional\"\u001b[0m\u001b[0;34m,\u001b[0m\u001b[0my_i\u001b[0m\u001b[0;34m=\u001b[0m\u001b[0my\u001b[0m\u001b[0;34m[\u001b[0m\u001b[0mn\u001b[0m\u001b[0;34m]\u001b[0m\u001b[0;34m)\u001b[0m\u001b[0;34m\u001b[0m\u001b[0;34m\u001b[0m\u001b[0m\n\u001b[0m\u001b[1;32m      8\u001b[0m     \u001b[0mprint\u001b[0m\u001b[0;34m(\u001b[0m\u001b[0;34m\"proba(likelihood)=\"\u001b[0m\u001b[0;34m,\u001b[0m\u001b[0mproba\u001b[0m\u001b[0;34m,\u001b[0m\u001b[0;34m\"beta=\"\u001b[0m\u001b[0;34m,\u001b[0m\u001b[0mbeta\u001b[0m\u001b[0;34m,\u001b[0m\u001b[0;34m\"k=\"\u001b[0m\u001b[0;34m,\u001b[0m\u001b[0mk\u001b[0m\u001b[0;34m)\u001b[0m\u001b[0;34m\u001b[0m\u001b[0;34m\u001b[0m\u001b[0m\n\u001b[1;32m      9\u001b[0m     \u001b[0;32mif\u001b[0m \u001b[0mproba\u001b[0m\u001b[0;34m>\u001b[0m\u001b[0mproba_max\u001b[0m\u001b[0;34m:\u001b[0m\u001b[0;34m\u001b[0m\u001b[0;34m\u001b[0m\u001b[0m\n",
            "\u001b[0;32m<ipython-input-195-830a84df1da7>\u001b[0m in \u001b[0;36mdistribution_Boltzmann\u001b[0;34m(index, beta, X, y, k, get, y_i)\u001b[0m\n\u001b[1;32m     83\u001b[0m   \u001b[0;32mfor\u001b[0m \u001b[0mj\u001b[0m \u001b[0;32min\u001b[0m \u001b[0mrange\u001b[0m\u001b[0;34m(\u001b[0m\u001b[0;36m3\u001b[0m\u001b[0;34m)\u001b[0m\u001b[0;34m:\u001b[0m\u001b[0;34m\u001b[0m\u001b[0;34m\u001b[0m\u001b[0m\n\u001b[1;32m     84\u001b[0m     \u001b[0mpr_y_i_left\u001b[0m \u001b[0;34m=\u001b[0m \u001b[0mclassifier_temp\u001b[0m\u001b[0;34m.\u001b[0m\u001b[0mpotential_function\u001b[0m\u001b[0;34m(\u001b[0m\u001b[0mX\u001b[0m\u001b[0;34m[\u001b[0m\u001b[0mindex\u001b[0m\u001b[0;34m]\u001b[0m\u001b[0;34m,\u001b[0m\u001b[0mj\u001b[0m\u001b[0;34m)\u001b[0m\u001b[0;34m\u001b[0m\u001b[0;34m\u001b[0m\u001b[0m\n\u001b[0;32m---> 85\u001b[0;31m     \u001b[0mpr_y_i_right\u001b[0m\u001b[0;34m=\u001b[0m \u001b[0mclassifier\u001b[0m\u001b[0;34m.\u001b[0m\u001b[0mmutual_neighbours\u001b[0m\u001b[0;34m(\u001b[0m\u001b[0mindex\u001b[0m\u001b[0;34m,\u001b[0m\u001b[0my_i\u001b[0m\u001b[0;34m=\u001b[0m\u001b[0my\u001b[0m\u001b[0;34m[\u001b[0m\u001b[0mindex\u001b[0m\u001b[0;34m]\u001b[0m\u001b[0;34m)\u001b[0m\u001b[0;34m\u001b[0m\u001b[0;34m\u001b[0m\u001b[0m\n\u001b[0m\u001b[1;32m     86\u001b[0m   \u001b[0;31m#  print(pr_y_i_right)\u001b[0m\u001b[0;34m\u001b[0m\u001b[0;34m\u001b[0m\u001b[0;34m\u001b[0m\u001b[0m\n\u001b[1;32m     87\u001b[0m     \u001b[0mall_dis\u001b[0m\u001b[0;34m.\u001b[0m\u001b[0mappend\u001b[0m\u001b[0;34m(\u001b[0m\u001b[0mnp\u001b[0m\u001b[0;34m.\u001b[0m\u001b[0mexp\u001b[0m\u001b[0;34m(\u001b[0m\u001b[0;34m(\u001b[0m\u001b[0mbeta\u001b[0m\u001b[0;34m/\u001b[0m\u001b[0mk\u001b[0m\u001b[0;34m)\u001b[0m\u001b[0;34m*\u001b[0m\u001b[0;34m(\u001b[0m\u001b[0mpr_y_i_left\u001b[0m\u001b[0;34m+\u001b[0m\u001b[0mpr_y_i_right\u001b[0m\u001b[0;34m)\u001b[0m\u001b[0;34m)\u001b[0m\u001b[0;34m)\u001b[0m\u001b[0;34m\u001b[0m\u001b[0;34m\u001b[0m\u001b[0m\n",
            "\u001b[0;32m<ipython-input-195-830a84df1da7>\u001b[0m in \u001b[0;36mmutual_neighbours\u001b[0;34m(self, index, y_i)\u001b[0m\n\u001b[1;32m     37\u001b[0m         \u001b[0mclassifier_temp\u001b[0m\u001b[0;34m.\u001b[0m\u001b[0mfit\u001b[0m\u001b[0;34m(\u001b[0m\u001b[0mTrain_x_temp\u001b[0m\u001b[0;34m,\u001b[0m\u001b[0mTrain_y_temp\u001b[0m\u001b[0;34m,\u001b[0m\u001b[0mself\u001b[0m\u001b[0;34m.\u001b[0m\u001b[0mn\u001b[0m\u001b[0;34m)\u001b[0m\u001b[0;34m\u001b[0m\u001b[0;34m\u001b[0m\u001b[0m\n\u001b[1;32m     38\u001b[0m         \u001b[0;32mif\u001b[0m \u001b[0mself\u001b[0m\u001b[0;34m.\u001b[0m\u001b[0mX\u001b[0m\u001b[0;34m[\u001b[0m\u001b[0mindex\u001b[0m\u001b[0;34m]\u001b[0m \u001b[0;32min\u001b[0m \u001b[0mTrain_x_temp\u001b[0m\u001b[0;34m[\u001b[0m\u001b[0mclassifier_temp\u001b[0m\u001b[0;34m.\u001b[0m\u001b[0mget_neighbours\u001b[0m\u001b[0;34m(\u001b[0m\u001b[0mself\u001b[0m\u001b[0;34m.\u001b[0m\u001b[0mX\u001b[0m\u001b[0;34m[\u001b[0m\u001b[0mneighbors_index\u001b[0m\u001b[0;34m[\u001b[0m\u001b[0mi\u001b[0m\u001b[0;34m]\u001b[0m\u001b[0;34m]\u001b[0m\u001b[0;34m)\u001b[0m\u001b[0;34m]\u001b[0m\u001b[0;34m:\u001b[0m\u001b[0;34m\u001b[0m\u001b[0;34m\u001b[0m\u001b[0m\n\u001b[0;32m---> 39\u001b[0;31m           \u001b[0;32mif\u001b[0m \u001b[0my_i\u001b[0m \u001b[0;34m==\u001b[0m \u001b[0my\u001b[0m\u001b[0;34m[\u001b[0m\u001b[0mneighbors_index\u001b[0m\u001b[0;34m[\u001b[0m\u001b[0mi\u001b[0m\u001b[0;34m]\u001b[0m\u001b[0;34m]\u001b[0m \u001b[0;34m:\u001b[0m\u001b[0;34m\u001b[0m\u001b[0;34m\u001b[0m\u001b[0m\n\u001b[0m\u001b[1;32m     40\u001b[0m             \u001b[0mnumber_mutual_neighbours\u001b[0m\u001b[0;34m+=\u001b[0m\u001b[0;36m1\u001b[0m\u001b[0;34m\u001b[0m\u001b[0;34m\u001b[0m\u001b[0m\n\u001b[1;32m     41\u001b[0m       \u001b[0;32mreturn\u001b[0m \u001b[0mnumber_mutual_neighbours\u001b[0m\u001b[0;34m\u001b[0m\u001b[0;34m\u001b[0m\u001b[0m\n",
            "\u001b[0;31mValueError\u001b[0m: The truth value of an array with more than one element is ambiguous. Use a.any() or a.all()"
          ]
        }
      ]
    },
    {
      "cell_type": "code",
      "metadata": {
        "id": "Dx7zFuy4Lx78",
        "colab_type": "code",
        "colab": {}
      },
      "source": [
        "distribution_Boltzmann(index=2,beta=beta,X=X,y=y,k=k,get=\"conditional\",y_i=y[n])"
      ],
      "execution_count": 0,
      "outputs": []
    },
    {
      "cell_type": "code",
      "metadata": {
        "id": "syWp5752Iofq",
        "colab_type": "code",
        "outputId": "90841d30-101c-4117-bc50-519eb5fdc15c",
        "colab": {
          "base_uri": "https://localhost:8080/",
          "height": 52
        }
      },
      "source": [
        "para=[0,0]\n",
        "proba_max=0\n",
        "for beta in range(2,10):\n",
        "  for k in range(2,40):\n",
        "    proba=1    \n",
        "    for n in range(len(y)):\n",
        "      proba=proba*distribution_Boltzmann(index=n,beta=beta,X=X,y=y,k=k,get=\"conditional\",y_i=y[n])\n",
        "   # print(\"proba(likelihood)=\",proba,\"beta=\",beta,\"k=\",k)\n",
        "    if proba>proba_max:\n",
        "      proba_max = proba \n",
        "      para[0]=beta\n",
        "      para[1]=k\n",
        "print(\"max_likelihood=\",proba)\n",
        "print(\"with beta=\",para[0],\"k=\",para[1])"
      ],
      "execution_count": 0,
      "outputs": [
        {
          "output_type": "stream",
          "text": [
            "max_likelihood= 4.193036117121635e-13\n",
            "with beta= 3 k= 7\n"
          ],
          "name": "stdout"
        }
      ]
    },
    {
      "cell_type": "code",
      "metadata": {
        "id": "DbHHoIC4Duoq",
        "colab_type": "code",
        "outputId": "601bd554-50e2-4be4-a227-4d633d5da9ac",
        "colab": {
          "base_uri": "https://localhost:8080/",
          "height": 35
        }
      },
      "source": [
        "distribution_Boltzmann(index=1,beta=1,X=X,y=y,k=5,get=\"conditional\",y_i=y[1])**150"
      ],
      "execution_count": 0,
      "outputs": [
        {
          "output_type": "execute_result",
          "data": {
            "text/plain": [
              "2.483444616225093e-16"
            ]
          },
          "metadata": {
            "tags": []
          },
          "execution_count": 31
        }
      ]
    },
    {
      "cell_type": "code",
      "metadata": {
        "id": "hqVyFEeQAzGN",
        "colab_type": "code",
        "outputId": "d9874a31-fdc1-48c7-f7f4-ef7c2f5b7b23",
        "colab": {
          "base_uri": "https://localhost:8080/",
          "height": 35
        }
      },
      "source": [
        "para=[0,0]\n",
        "proba_max=0\n",
        "for beta in range(4):\n",
        "  for k in range(10,40):\n",
        "    proba=0    \n",
        "    for n in range(len(y)):\n",
        "      proba=proba*distribution_Boltzmann(index=n,beta=beta,X=X,y=y,k=k,get=\"conditional\",y_i=y[n])\n",
        "\n",
        "    if proba>proba_max:\n",
        "      proba_max = proba \n",
        "      para[0]=beta\n",
        "      para[1]=k\n",
        "print(proba)"
      ],
      "execution_count": 0,
      "outputs": [
        {
          "output_type": "execute_result",
          "data": {
            "text/plain": [
              "[15, 16, 17, 18, 19]"
            ]
          },
          "metadata": {
            "tags": []
          },
          "execution_count": 21
        }
      ]
    },
    {
      "cell_type": "code",
      "metadata": {
        "id": "xSzi65FmC2H-",
        "colab_type": "code",
        "outputId": "1584deeb-bb04-47ac-958f-baa92218e47e",
        "colab": {
          "base_uri": "https://localhost:8080/",
          "height": 35
        }
      },
      "source": [
        "len(range(10,30))"
      ],
      "execution_count": 0,
      "outputs": [
        {
          "output_type": "execute_result",
          "data": {
            "text/plain": [
              "20"
            ]
          },
          "metadata": {
            "tags": []
          },
          "execution_count": 23
        }
      ]
    },
    {
      "cell_type": "code",
      "metadata": {
        "colab_type": "code",
        "outputId": "eecbc0c9-92ec-4794-94c5-d24e962c17a9",
        "id": "4GICT67IA4RW",
        "colab": {
          "base_uri": "https://localhost:8080/",
          "height": 34
        }
      },
      "source": [
        "distribution_Boltzmann(index=0,beta=2,X=X,y=y,k=40,get=\"joint\")"
      ],
      "execution_count": 0,
      "outputs": [
        {
          "output_type": "execute_result",
          "data": {
            "text/plain": [
              "array([0.96466316, 0.01766842, 0.01766842])"
            ]
          },
          "metadata": {
            "tags": []
          },
          "execution_count": 193
        }
      ]
    },
    {
      "cell_type": "code",
      "metadata": {
        "id": "1nh5lv5wAoXa",
        "colab_type": "code",
        "colab": {}
      },
      "source": [
        "# formula 8\n",
        "def pseudo_likelihood_approximation(beta,X,y,k):\n",
        "    classifier = knn()\n",
        "    classifier.fit(X,y,k) \n",
        "    prob=1\n",
        "    for i in range(len(y)):\n",
        "\n",
        "        Train_x_temp = X\n",
        "        Train_y_temp = y\n",
        "        Train_x_temp=np.delete(X, i, axis=0)\n",
        "        Train_y_temp=np.delete(y, i, axis=0)\n",
        "        classifier_temp = knn()\n",
        "        classifier_temp.fit(Train_x_temp,Train_y_temp,k) \n",
        "        neighbors_index = classifier_temp.get_neighbours(X[i])\n",
        "        up_left_sum = classifier_temp.potential_function(X[i], y[i])\n",
        "        up_right_sum = classifier.mutual_neighbours(i,y[i])\n",
        "\n",
        "        up_sum = np.exp((beta/k)*(up_left_sum+up_right_sum))\n",
        "             \n",
        "        down_sum = 0\n",
        "        for g in range(2):\n",
        "          down_left_sum = classifier_temp.potential_function(X[i],g)\n",
        "          down_right_sum = classifier.mutual_neighbours(i,y_i=g)\n",
        "          print(np.exp((beta/k)*(down_left_sum + down_right_sum)))\n",
        "          down_sum += np.exp((beta/k)*(down_left_sum + down_right_sum))\n",
        "        print(\"-------\")\n",
        "        # print(\"up\",up_sum)\n",
        "        # print(\"down\",down_sum)\n",
        "        # print(\"down\",down__sum)\n",
        "        # print(\"all\",(up_sum/down_sum))\n",
        "        prob = prob*(up_sum/down_sum)\n",
        "      \n",
        "    return prob\n"
      ],
      "execution_count": 0,
      "outputs": []
    },
    {
      "cell_type": "code",
      "metadata": {
        "id": "L02qWtziIy97",
        "colab_type": "code",
        "colab": {
          "base_uri": "https://localhost:8080/",
          "height": 1000
        },
        "outputId": "99ad2418-deaa-472e-a529-c983b3357336"
      },
      "source": [
        "pseudo_likelihood_approximation(beta=10,X=X[:100],y=y[:100],k=10)"
      ],
      "execution_count": 194,
      "outputs": [
        {
          "output_type": "stream",
          "text": [
            "485165195.4097903\n",
            "1.0\n",
            "-------\n",
            "485165195.4097903\n",
            "1.0\n",
            "-------\n",
            "485165195.4097903\n",
            "1.0\n",
            "-------\n",
            "485165195.4097903\n",
            "1.0\n",
            "-------\n",
            "485165195.4097903\n",
            "1.0\n",
            "-------\n",
            "24154952.7535753\n",
            "1.0\n",
            "-------\n",
            "485165195.4097903\n",
            "1.0\n",
            "-------\n",
            "485165195.4097903\n",
            "1.0\n",
            "-------\n",
            "485165195.4097903\n",
            "1.0\n",
            "-------\n",
            "485165195.4097903\n",
            "1.0\n",
            "-------\n",
            "485165195.4097903\n",
            "1.0\n",
            "-------\n",
            "485165195.4097903\n",
            "1.0\n",
            "-------\n",
            "485165195.4097903\n",
            "1.0\n",
            "-------\n",
            "24154952.7535753\n",
            "1.0\n",
            "-------\n",
            "485165195.4097903\n",
            "1.0\n",
            "-------\n",
            "485165195.4097903\n",
            "1.0\n",
            "-------\n",
            "485165195.4097903\n",
            "1.0\n",
            "-------\n",
            "485165195.4097903\n",
            "1.0\n",
            "-------\n",
            "485165195.4097903\n",
            "1.0\n",
            "-------\n",
            "485165195.4097903\n",
            "1.0\n",
            "-------\n",
            "485165195.4097903\n",
            "1.0\n",
            "-------\n",
            "485165195.4097903\n",
            "1.0\n",
            "-------\n",
            "485165195.4097903\n",
            "1.0\n",
            "-------\n",
            "65659969.13733051\n",
            "1.0\n",
            "-------\n",
            "485165195.4097903\n",
            "1.0\n",
            "-------\n",
            "485165195.4097903\n",
            "1.0\n",
            "-------\n",
            "485165195.4097903\n",
            "1.0\n",
            "-------\n",
            "485165195.4097903\n",
            "1.0\n",
            "-------\n",
            "485165195.4097903\n",
            "1.0\n",
            "-------\n",
            "485165195.4097903\n",
            "1.0\n",
            "-------\n",
            "485165195.4097903\n",
            "1.0\n",
            "-------\n",
            "485165195.4097903\n",
            "1.0\n",
            "-------\n",
            "485165195.4097903\n",
            "1.0\n",
            "-------\n",
            "485165195.4097903\n",
            "1.0\n",
            "-------\n",
            "485165195.4097903\n",
            "1.0\n",
            "-------\n",
            "485165195.4097903\n",
            "1.0\n",
            "-------\n",
            "485165195.4097903\n",
            "1.0\n",
            "-------\n",
            "485165195.4097903\n",
            "1.0\n",
            "-------\n",
            "485165195.4097903\n",
            "1.0\n",
            "-------\n",
            "485165195.4097903\n",
            "1.0\n",
            "-------\n",
            "485165195.4097903\n",
            "1.0\n",
            "-------\n",
            "485165195.4097903\n",
            "1.0\n",
            "-------\n",
            "485165195.4097903\n",
            "1.0\n",
            "-------\n",
            "485165195.4097903\n",
            "1.0\n",
            "-------\n",
            "65659969.13733051\n",
            "1.0\n",
            "-------\n",
            "485165195.4097903\n",
            "1.0\n",
            "-------\n",
            "485165195.4097903\n",
            "1.0\n",
            "-------\n",
            "485165195.4097903\n",
            "1.0\n",
            "-------\n",
            "485165195.4097903\n",
            "1.0\n",
            "-------\n",
            "485165195.4097903\n",
            "1.0\n",
            "-------\n",
            "1.0\n",
            "485165195.4097903\n",
            "-------\n",
            "1.0\n",
            "8886110.520507872\n",
            "-------\n",
            "1.0\n",
            "24154952.7535753\n",
            "-------\n",
            "1.0\n",
            "485165195.4097903\n",
            "-------\n",
            "1.0\n",
            "65659969.13733051\n",
            "-------\n",
            "1.0\n",
            "485165195.4097903\n",
            "-------\n",
            "1.0\n",
            "3269017.3724721107\n",
            "-------\n",
            "1.0\n",
            "24154952.7535753\n",
            "-------\n",
            "1.0\n",
            "485165195.4097903\n",
            "-------\n",
            "1.0\n",
            "485165195.4097903\n",
            "-------\n",
            "1.0\n",
            "65659969.13733051\n",
            "-------\n",
            "1.0\n",
            "65659969.13733051\n",
            "-------\n",
            "1.0\n",
            "65659969.13733051\n",
            "-------\n",
            "1.0\n",
            "178482300.96318725\n",
            "-------\n",
            "1.0\n",
            "485165195.4097903\n",
            "-------\n",
            "1.0\n",
            "485165195.4097903\n",
            "-------\n",
            "1.0\n",
            "485165195.4097903\n",
            "-------\n",
            "1.0\n",
            "178482300.96318725\n",
            "-------\n",
            "1.0\n",
            "24154952.7535753\n",
            "-------\n",
            "1.0\n",
            "178482300.96318725\n",
            "-------\n",
            "1.0\n",
            "24154952.7535753\n",
            "-------\n",
            "1.0\n",
            "485165195.4097903\n",
            "-------\n",
            "1.0\n",
            "485165195.4097903\n",
            "-------\n",
            "1.0\n",
            "485165195.4097903\n",
            "-------\n",
            "1.0\n",
            "485165195.4097903\n",
            "-------\n",
            "1.0\n",
            "485165195.4097903\n",
            "-------\n",
            "1.0\n",
            "485165195.4097903\n",
            "-------\n",
            "1.0\n",
            "485165195.4097903\n",
            "-------\n",
            "1.0\n",
            "485165195.4097903\n",
            "-------\n",
            "1.0\n",
            "485165195.4097903\n",
            "-------\n",
            "1.0\n",
            "65659969.13733051\n",
            "-------\n",
            "1.0\n",
            "178482300.96318725\n",
            "-------\n",
            "1.0\n",
            "485165195.4097903\n",
            "-------\n",
            "1.0\n",
            "65659969.13733051\n",
            "-------\n",
            "1.0\n",
            "24154952.7535753\n",
            "-------\n",
            "1.0\n",
            "485165195.4097903\n",
            "-------\n",
            "1.0\n",
            "485165195.4097903\n",
            "-------\n",
            "1.0\n",
            "485165195.4097903\n",
            "-------\n",
            "1.0\n",
            "485165195.4097903\n",
            "-------\n",
            "1.0\n",
            "485165195.4097903\n",
            "-------\n",
            "1.0\n",
            "485165195.4097903\n",
            "-------\n",
            "1.0\n",
            "485165195.4097903\n",
            "-------\n",
            "1.0\n",
            "485165195.4097903\n",
            "-------\n",
            "1.0\n",
            "178482300.96318725\n",
            "-------\n",
            "1.0\n",
            "485165195.4097903\n",
            "-------\n",
            "1.0\n",
            "485165195.4097903\n",
            "-------\n",
            "1.0\n",
            "485165195.4097903\n",
            "-------\n",
            "1.0\n",
            "485165195.4097903\n",
            "-------\n",
            "1.0\n",
            "485165195.4097903\n",
            "-------\n",
            "1.0\n",
            "485165195.4097903\n",
            "-------\n"
          ],
          "name": "stdout"
        },
        {
          "output_type": "execute_result",
          "data": {
            "text/plain": [
              "0.999998981143644"
            ]
          },
          "metadata": {
            "tags": []
          },
          "execution_count": 194
        }
      ]
    },
    {
      "cell_type": "code",
      "metadata": {
        "id": "TNqSBjy7GJdn",
        "colab_type": "code",
        "colab": {
          "base_uri": "https://localhost:8080/",
          "height": 599
        },
        "outputId": "79a328cb-8223-47d6-e44d-7b60ae5cdeb7"
      },
      "source": [
        "para=[0,0]\n",
        "proba_max=0\n",
        "for beta in range(1,4):\n",
        "  for k in range(15,25):   \n",
        "    proba = pseudo_likelihood_approximation(beta=beta,X=X[:100],y=y[:100],k=k)\n",
        "    print(\"proba(likelihood)=\",proba,\"beta=\",beta,\"k=\",k)\n",
        "    if proba>proba_max:\n",
        "      proba_max = proba \n",
        "      para[0]=beta\n",
        "      para[1]=k\n",
        "print(\"max_likelihood=\",proba)\n",
        "print(\"with beta=\",para[0],\"k=\",para[1])"
      ],
      "execution_count": 168,
      "outputs": [
        {
          "output_type": "stream",
          "text": [
            "proba(likelihood)= 2.150587883423428e-06 beta= 1 k= 15\n",
            "proba(likelihood)= 2.2913028752162813e-06 beta= 1 k= 16\n",
            "proba(likelihood)= 2.4104366120215427e-06 beta= 1 k= 17\n",
            "proba(likelihood)= 2.4422853709241676e-06 beta= 1 k= 18\n",
            "proba(likelihood)= 2.505200368511912e-06 beta= 1 k= 19\n",
            "proba(likelihood)= 2.6380739056673394e-06 beta= 1 k= 20\n",
            "proba(likelihood)= 2.674646903385198e-06 beta= 1 k= 21\n",
            "proba(likelihood)= 2.7838990619525254e-06 beta= 1 k= 22\n",
            "proba(likelihood)= 2.7820943497531344e-06 beta= 1 k= 23\n",
            "proba(likelihood)= 2.7272978343036745e-06 beta= 1 k= 24\n",
            "proba(likelihood)= 0.14417668669735972 beta= 2 k= 15\n",
            "proba(likelihood)= 0.1473474419101697 beta= 2 k= 16\n",
            "proba(likelihood)= 0.1500958709178722 beta= 2 k= 17\n",
            "proba(likelihood)= 0.15074389669653537 beta= 2 k= 18\n",
            "proba(likelihood)= 0.15199941636832828 beta= 2 k= 19\n",
            "proba(likelihood)= 0.15487609377324593 beta= 2 k= 20\n",
            "proba(likelihood)= 0.15560761362695066 beta= 2 k= 21\n",
            "proba(likelihood)= 0.1575930022660789 beta= 2 k= 22\n",
            "proba(likelihood)= 0.15761050066745025 beta= 2 k= 23\n",
            "proba(likelihood)= 0.15636220780329474 beta= 2 k= 24\n",
            "proba(likelihood)= 0.7587863900972314 beta= 3 k= 15\n",
            "proba(likelihood)= 0.7626892192313764 beta= 3 k= 16\n",
            "proba(likelihood)= 0.7662054091360953 beta= 3 k= 17\n",
            "proba(likelihood)= 0.7669618881605101 beta= 3 k= 18\n",
            "proba(likelihood)= 0.7683536882792538 beta= 3 k= 19\n",
            "proba(likelihood)= 0.771961447040931 beta= 3 k= 20\n",
            "proba(likelihood)= 0.7728115642765652 beta= 3 k= 21\n",
            "proba(likelihood)= 0.7749233409355489 beta= 3 k= 22\n",
            "proba(likelihood)= 0.7750110503978845 beta= 3 k= 23\n",
            "proba(likelihood)= 0.7733431401938076 beta= 3 k= 24\n",
            "max_likelihood= 0.7733431401938076\n",
            "with beta= 3 k= 23\n"
          ],
          "name": "stdout"
        }
      ]
    },
    {
      "cell_type": "code",
      "metadata": {
        "id": "ggtOz2OcPi5F",
        "colab_type": "code",
        "outputId": "1caf86ca-44f6-4b54-aed3-b1b4aaeb21bc",
        "colab": {
          "base_uri": "https://localhost:8080/",
          "height": 35
        }
      },
      "source": [
        "pseudo_likelihood_approximation(beta=10,X=X[:100],y=y[:100],k=20)"
      ],
      "execution_count": 172,
      "outputs": [
        {
          "output_type": "execute_result",
          "data": {
            "text/plain": [
              "0.9999997309756896"
            ]
          },
          "metadata": {
            "tags": []
          },
          "execution_count": 172
        }
      ]
    },
    {
      "cell_type": "code",
      "metadata": {
        "id": "mkDz0vQJY4gq",
        "colab_type": "code",
        "outputId": "ed31c8e3-8775-48f2-b61b-990dbbfd2302",
        "colab": {
          "base_uri": "https://localhost:8080/",
          "height": 123
        }
      },
      "source": [
        "np.arange(len(y[:100]))"
      ],
      "execution_count": 0,
      "outputs": [
        {
          "output_type": "execute_result",
          "data": {
            "text/plain": [
              "array([ 0,  1,  2,  3,  4,  5,  6,  7,  8,  9, 10, 11, 12, 13, 14, 15, 16,\n",
              "       17, 18, 19, 20, 21, 22, 23, 24, 25, 26, 27, 28, 29, 30, 31, 32, 33,\n",
              "       34, 35, 36, 37, 38, 39, 40, 41, 42, 43, 44, 45, 46, 47, 48, 49, 50,\n",
              "       51, 52, 53, 54, 55, 56, 57, 58, 59, 60, 61, 62, 63, 64, 65, 66, 67,\n",
              "       68, 69, 70, 71, 72, 73, 74, 75, 76, 77, 78, 79, 80, 81, 82, 83, 84,\n",
              "       85, 86, 87, 88, 89, 90, 91, 92, 93, 94, 95, 96, 97, 98, 99])"
            ]
          },
          "metadata": {
            "tags": []
          },
          "execution_count": 63
        }
      ]
    },
    {
      "cell_type": "code",
      "metadata": {
        "id": "l0oosUjKI0t7",
        "colab_type": "code",
        "colab": {}
      },
      "source": [
        "# formula 8\n",
        "def pseudo_likelihood_approximation(beta,X,y,k, l=0):\n",
        "    classifier = knn()\n",
        "    classifier.fit(X,y,k)\n",
        "    prod = 1\n",
        "    for i in range(len(y)):\n",
        "        first_sum = classifier.potential_function(X[i], y[l]) + classifier.potential_function(X[l], y[i])\n",
        "        up = np.exp((beta/k)*first_sum)\n",
        "        second_sum = 0\n",
        "        for g in range(2):\n",
        "            second_sum += classifier.potential_function(X[i],g) + classifier.potential_function(X[l],g)\n",
        "        down = np.exp((beta/k)*(second_sum))\n",
        "        prod *= (up/down)\n",
        "    return prod"
      ],
      "execution_count": 0,
      "outputs": []
    },
    {
      "cell_type": "code",
      "metadata": {
        "id": "8XILSS76oZQH",
        "colab_type": "code",
        "outputId": "84e4e75e-1b20-4f46-969c-d1ab19d0e59c",
        "colab": {
          "base_uri": "https://localhost:8080/",
          "height": 248
        }
      },
      "source": [
        "fig = plt.figure()  #定义新的三维坐标轴\n",
        "ax3 = plt.axes(projection='3d')\n",
        "aaa=np.zeros(20)\n",
        "#定义三维数据\n",
        "beta = np.arange(1,12)\n",
        "k = np.arange(10,25)\n",
        "beta, k = np.meshgrid(beta, k)\n",
        "\n",
        "Z = para_all[beta-1,k-10]\n",
        "\n",
        "\n",
        "#作图\n",
        "ax3.plot_surface(beta,k,Z,rstride = 1, cstride = 1,cmap='rainbow')\n",
        "#ax3.contour(X,Y,Z, zdim='z',offset=-2，cmap='rainbow)   #等高线图，要设置offset，为Z的最小值\n",
        "plt.show()"
      ],
      "execution_count": 274,
      "outputs": [
        {
          "output_type": "display_data",
          "data": {
            "image/png": "[encoded data removed]",
            "text/plain": [
              "<Figure size 432x288 with 1 Axes>"
            ]
          },
          "metadata": {
            "tags": [],
            "needs_background": "light"
          }
        }
      ]
    },
    {
      "cell_type": "code",
      "metadata": {
        "id": "m-i0F_DVHBL7",
        "colab_type": "code",
        "outputId": "fa38336b-2aa5-460c-ed4b-48184e38ef53",
        "colab": {
          "base_uri": "https://localhost:8080/",
          "height": 35
        }
      },
      "source": [
        "avg = np.average(minimums).astype(int)\n",
        "print(avg)"
      ],
      "execution_count": 0,
      "outputs": [
        {
          "output_type": "stream",
          "text": [
            "18\n"
          ],
          "name": "stdout"
        }
      ]
    },
    {
      "cell_type": "code",
      "metadata": {
        "id": "EI7Hqqp68Mm1",
        "colab_type": "code",
        "colab": {}
      },
      "source": [
        "all_error = np.array(all_error)\n",
        "minimums = np.flatnonzero(all_error == all_error.min())"
      ],
      "execution_count": 0,
      "outputs": []
    }
  ]
}