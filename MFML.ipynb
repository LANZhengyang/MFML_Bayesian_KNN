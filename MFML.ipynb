{
  "nbformat": 4,
  "nbformat_minor": 0,
  "metadata": {
    "colab": {
      "name": "MFML.ipynb",
      "provenance": [],
      "collapsed_sections": [],
      "include_colab_link": true
    },
    "kernelspec": {
      "name": "python3",
      "display_name": "Python 3"
    }
  },
  "cells": [
    {
      "cell_type": "markdown",
      "metadata": {
        "id": "view-in-github",
        "colab_type": "text"
      },
      "source": [
        "<a href=\"https://colab.research.google.com/github/LANZhengyang/MFML_Bayesian_KNN/blob/master/MFML.ipynb\" target=\"_parent\"><img src=\"https://colab.research.google.com/assets/colab-badge.svg\" alt=\"Open In Colab\"/></a>"
      ]
    },
    {
      "cell_type": "code",
      "metadata": {
        "id": "cDwufOa4m99p",
        "colab_type": "code",
        "colab": {}
      },
      "source": [
        "import numpy as np\n",
        "import matplotlib.pyplot as plt\n",
        "from matplotlib.colors import ListedColormap\n",
        "from sklearn import neighbors, datasets\n",
        "from functools import reduce"
      ],
      "execution_count": 0,
      "outputs": []
    },
    {
      "cell_type": "markdown",
      "metadata": {
        "id": "4EdLPTRMsLjk",
        "colab_type": "text"
      },
      "source": [
        ""
      ]
    },
    {
      "cell_type": "code",
      "metadata": {
        "id": "2_DeqYwSnGmj",
        "colab_type": "code",
        "colab": {}
      },
      "source": [
        "iris = datasets.load_iris()\n",
        "X = iris.data\n",
        "y = iris.target\n"
      ],
      "execution_count": 0,
      "outputs": []
    },
    {
      "cell_type": "code",
      "metadata": {
        "id": "mluK4TUs2pZC",
        "colab_type": "code",
        "colab": {}
      },
      "source": [
        "D=np.delete(X, -1, axis=0)"
      ],
      "execution_count": 0,
      "outputs": []
    },
    {
      "cell_type": "code",
      "metadata": {
        "id": "N198VCnJqH_Q",
        "colab_type": "code",
        "colab": {}
      },
      "source": [
        "all_error = []\n",
        "for k in range(2,50):\n",
        "  sum=0\n",
        "  for i in range(len(y)):\n",
        "    Train_x=np.delete(X, i, axis=0)\n",
        "    Train_y=np.delete(y, i, axis=0)\n",
        "    neigh = neighbors.KNeighborsClassifier(n_neighbors=k)\n",
        "    neigh.fit(Train_x, Train_y)\n",
        "    if neigh.predict(X[i][np.newaxis, :]) != y[i]:\n",
        "      sum=sum+1\n",
        "  sum = sum/ len(y)  \n",
        "  all_error.append(sum)\n",
        " # print(\"k= %d error rate= %.3f \"%(k,sum) )"
      ],
      "execution_count": 0,
      "outputs": []
    },
    {
      "cell_type": "code",
      "metadata": {
        "id": "GHnBIZSAxY8d",
        "colab_type": "code",
        "outputId": "83b83022-c49b-45e9-bf33-62d448d0e336",
        "colab": {
          "base_uri": "https://localhost:8080/",
          "height": 287
        }
      },
      "source": [
        "plt.bar(range(2,50),all_error)"
      ],
      "execution_count": 0,
      "outputs": [
        {
          "output_type": "execute_result",
          "data": {
            "text/plain": [
              "<BarContainer object of 48 artists>"
            ]
          },
          "metadata": {
            "tags": []
          },
          "execution_count": 32
        },
        {
          "output_type": "display_data",
          "data": {
            "image/png": "[encoded data removed]",
            "text/plain": [
              "<Figure size 432x288 with 1 Axes>"
            ]
          },
          "metadata": {
            "tags": [],
            "needs_background": "light"
          }
        }
      ]
    },
    {
      "cell_type": "code",
      "metadata": {
        "id": "UjfVaUliktA2",
        "colab_type": "code",
        "colab": {}
      },
      "source": [
        "import numpy as np\n",
        "import matplotlib.pyplot as plt\n",
        "class knn():\n",
        "    def fit(self,X,y,n):\n",
        "        self.X = X\n",
        "        self.y=y\n",
        "        self.n=n\n",
        "\n",
        "    def distance(self,x_1,x_2):        \n",
        "        return np.linalg.norm(x_1-x_2,ord=self.X.shape[1])   \n",
        "\n",
        "    def get_neighbours(self,x):        \n",
        "        all_distance = []\n",
        "        for i in range(self.y.shape[0]):\n",
        "            all_distance.append(self.distance(x,self.X[i]))       \n",
        "        return np.argsort(all_distance)[:self.n]\n",
        "\n",
        "    def potential_function(self,x,y_i):\n",
        "      neighbors=self.get_neighbours(x)\n",
        "\n",
        "      return np.sum(y[neighbors] == y_i)\n",
        "\n",
        "    def mutual_neighbours(self,index,y_i):\n",
        "\n",
        "      classifier = knn()\n",
        "      Train_x=np.delete(self.X, index, axis=0)\n",
        "      Train_y=np.delete(self.y, index, axis=0)\n",
        "      classifier.fit(Train_x,Train_y,self.n)\n",
        "      neighbors_index = classifier.get_neighbours(self.X[index])\n",
        "      number_mutual_neighbours=0\n",
        "      for i in range(self.n):\n",
        "        Train_x_temp = self.X\n",
        "        Train_y_temp = self.y\n",
        "        Train_x_temp=np.delete(Train_x_temp, neighbors_index[i], axis=0)\n",
        "        Train_y_temp=np.delete(Train_y_temp, neighbors_index[i], axis=0)\n",
        "        classifier_temp = knn()\n",
        "        classifier_temp.fit(Train_x_temp,Train_y_temp,self.n)\n",
        "        if self.X[index] in Train_x_temp[classifier_temp.get_neighbours(self.X[neighbors_index[i]])]:\n",
        "          if y_i == y[neighbors_index[i]] :       \n",
        "            number_mutual_neighbours+=1\n",
        "      return number_mutual_neighbours\n",
        "\n",
        "#formula 1, when get = conditional\n",
        "def distribution(index,beta,X,y,k,get=\"joint\",y_i=0):\n",
        "  classifier = knn()\n",
        "  Train_x=np.delete(X, index, axis=0)\n",
        "  Train_y=np.delete(y, index, axis=0)\n",
        "  classifier.fit(Train_x,Train_y,k)\n",
        "  all_dis=[]\n",
        "  for j in range(3):\n",
        "    pr_y_i_up = np.exp(beta*classifier.potential_function(X[index],j)/k)\n",
        "    pr_y_i_down=0\n",
        "    for i in range(3):\n",
        "      pr_y_i_down = pr_y_i_down + (np.exp(beta*classifier.potential_function(X[index],i)/k))\n",
        "    all_dis.append(pr_y_i_up/pr_y_i_down)\n",
        "  z = np.sum(all_dis)\n",
        "  if get==\"joint\":\n",
        "    return all_dis/z\n",
        "  elif get ==\"conditional\":\n",
        "    return all_dis[y_i]/z\n",
        "\n",
        "#formula 2\n",
        "def combined_predictors(X_given,beta,k,X,y,y_given):\n",
        "  predict_list=[]\n",
        "  Train_x=np.delete(X, X_given, axis=0)\n",
        "  Train_y=np.delete(y, X_given, axis=0)\n",
        "  predict_list=[]\n",
        "  for i in range(len(X_given)):\n",
        "    predict_list.append(distribution(index=X_given[i],beta=beta,X=X,y=y,k=k,get=\"conditional\",y_i=y_given[i]))\n",
        "  return reduce(lambda x,y:x * y,predict_list)\n",
        "\n",
        "#formula 4\n",
        "def distribution_Boltzmann(index,beta,X,y,k,get=\"conditional\",y_i=0):\n",
        "\n",
        "  classifier = knn()\n",
        "  classifier.fit(X,y,k)\n",
        "  classifier_temp = knn()\n",
        "  Train_x=np.delete(X, index, axis=0)\n",
        "  Train_y=np.delete(y, index, axis=0)\n",
        "  classifier_temp.fit(Train_x,Train_y,k)\n",
        "  all_dis=[]\n",
        "  neighbors_index = classifier_temp.get_neighbours(X[index])\n",
        "  for j in range(3):\n",
        "    pr_y_i_left = classifier_temp.potential_function(X[index],j)\n",
        "    pr_y_i_right= classifier.mutual_neighbours(index,y_i=y[index])\n",
        "  #  print(pr_y_i_right)\n",
        "    all_dis.append(np.exp((beta/k)*(pr_y_i_left+pr_y_i_right)))\n",
        "  z = np.sum(all_dis) \n",
        " # print(z)\n",
        "  if get==\"joint\":\n",
        "\n",
        "    return all_dis/z\n",
        "  elif get ==\"conditional\":\n",
        "    return all_dis[y_i]/z\n",
        "\n",
        "\n",
        "def Z(beta,k,X,y):\n",
        "  s=0\n",
        "  for i in range(len(y)):\n",
        "    Train_x_temp = X\n",
        "    Train_y_temp = y\n",
        "    Train_x_temp=np.delete(X, i, axis=0)\n",
        "    Train_y_temp=np.delete(y, i, axis=0)\n",
        "    classifier_temp = knn()\n",
        "    classifier_temp.fit(Train_x_temp,Train_y_temp,k)    \n",
        "    s+= classifier_temp.potential_function(X[i],y[i]) /k\n",
        "\n"
      ],
      "execution_count": 0,
      "outputs": []
    },
    {
      "cell_type": "code",
      "metadata": {
        "id": "MVLSVQkm_dCx",
        "colab_type": "code",
        "colab": {}
      },
      "source": [
        "def get_S(X=X,y=y,k=40):\n",
        "    s = 0\n",
        "    for j in range(len(y)):\n",
        "        Train_x = np.delete(X, j, axis=0)\n",
        "        Train_y = np.delete(y, j, axis=0)\n",
        "        classifier_neighbours = knn()\n",
        "        classifier_neighbours.fit(Train_x,Train_y,k)\n",
        "        for i in range(k):\n",
        "            s += classifier.potential_function(X[j], y[j])\n",
        "    return s/k"
      ],
      "execution_count": 0,
      "outputs": []
    },
    {
      "cell_type": "code",
      "metadata": {
        "id": "MnJMytAy_jFU",
        "colab_type": "code",
        "colab": {}
      },
      "source": [
        "get_S(X=X[:90],y=y[:90],k=30)"
      ],
      "execution_count": 0,
      "outputs": []
    },
    {
      "cell_type": "code",
      "metadata": {
        "id": "6zBJK0WWKaDK",
        "colab_type": "code",
        "outputId": "0048ec93-3750-4af4-c169-c98e613c55a9",
        "colab": {
          "base_uri": "https://localhost:8080/",
          "height": 35
        }
      },
      "source": [
        "distribution_Boltzmann(index=106,beta=2,X=X,y=y,k=10,get=\"joint\",y_i=2)"
      ],
      "execution_count": 197,
      "outputs": [
        {
          "output_type": "execute_result",
          "data": {
            "text/plain": [
              "array([0.12090363, 0.73142434, 0.14767203])"
            ]
          },
          "metadata": {
            "tags": []
          },
          "execution_count": 197
        }
      ]
    },
    {
      "cell_type": "code",
      "metadata": {
        "id": "bVFn_t678kjc",
        "colab_type": "code",
        "outputId": "64baa2d2-1512-4c65-c90f-3a3000c18d4a",
        "colab": {
          "base_uri": "https://localhost:8080/",
          "height": 584
        }
      },
      "source": [
        "para=[0,0]\n",
        "proba_max=0\n",
        "for beta in range(6,12):\n",
        "  for k in range(18,23):\n",
        "    proba=1    \n",
        "    for n in range(len(y)):\n",
        "      proba=proba*distribution(index=n,beta=beta,X=X,y=y,k=k,get=\"conditional\",y_i=y[n])\n",
        "    print(\"proba(likelihood)=\",proba,\"beta=\",beta,\"k=\",k)\n",
        "    if proba>proba_max:\n",
        "      proba_max = proba \n",
        "      para[0]=beta\n",
        "      para[1]=k\n",
        "print(\"max_likelihood=\",proba)\n",
        "print(\"with beta=\",para[0],\"k=\",para[1])"
      ],
      "execution_count": 0,
      "outputs": [
        {
          "output_type": "stream",
          "text": [
            "proba(likelihood)= 1.3320972232492346e-07 beta= 6 k= 18\n",
            "proba(likelihood)= 3.329670349335591e-07 beta= 6 k= 19\n",
            "proba(likelihood)= 2.949660687338268e-07 beta= 6 k= 20\n",
            "proba(likelihood)= 1.608941727044398e-07 beta= 6 k= 21\n",
            "proba(likelihood)= 7.370308612739868e-08 beta= 6 k= 22\n",
            "proba(likelihood)= 1.240618347145344e-07 beta= 7 k= 18\n",
            "proba(likelihood)= 3.7646655405684727e-07 beta= 7 k= 19\n",
            "proba(likelihood)= 3.642496862555965e-07 beta= 7 k= 20\n",
            "proba(likelihood)= 1.8487192070294175e-07 beta= 7 k= 21\n",
            "proba(likelihood)= 7.622739920090129e-08 beta= 7 k= 22\n",
            "proba(likelihood)= 6.829042225145025e-08 beta= 8 k= 18\n",
            "proba(likelihood)= 2.4998420132645154e-07 beta= 8 k= 19\n",
            "proba(likelihood)= 2.6499617681800767e-07 beta= 8 k= 20\n",
            "proba(likelihood)= 1.246657304063014e-07 beta= 8 k= 21\n",
            "proba(likelihood)= 4.610757049502054e-08 beta= 8 k= 22\n",
            "proba(likelihood)= 2.8717663260551412e-08 beta= 9 k= 18\n",
            "proba(likelihood)= 1.260114114912097e-07 beta= 9 k= 19\n",
            "proba(likelihood)= 1.4683237581197085e-07 beta= 9 k= 20\n",
            "proba(likelihood)= 6.401173015840868e-08 beta= 9 k= 21\n",
            "proba(likelihood)= 2.1187746846683658e-08 beta= 9 k= 22\n",
            "proba(likelihood)= 1.0388020116354328e-08 beta= 10 k= 18\n",
            "proba(likelihood)= 5.4313715267832735e-08 beta= 10 k= 19\n",
            "proba(likelihood)= 6.98221059811824e-08 beta= 10 k= 20\n",
            "proba(likelihood)= 2.8244324185826894e-08 beta= 10 k= 21\n",
            "proba(likelihood)= 8.355730114262727e-09 beta= 10 k= 22\n",
            "proba(likelihood)= 3.426332223535164e-09 beta= 11 k= 18\n",
            "proba(likelihood)= 2.1231271633246815e-08 beta= 11 k= 19\n",
            "proba(likelihood)= 3.022524190330786e-08 beta= 11 k= 20\n",
            "proba(likelihood)= 1.1365664735659877e-08 beta= 11 k= 21\n",
            "proba(likelihood)= 3.003234615673595e-09 beta= 11 k= 22\n",
            "max_likelihood= 3.003234615673595e-09\n",
            "with beta= 7 k= 19\n"
          ],
          "name": "stdout"
        }
      ]
    },
    {
      "cell_type": "code",
      "metadata": {
        "id": "dwzqZPqcBYb4",
        "colab_type": "code",
        "outputId": "95c085e3-0644-4b70-b594-c2c1acac0c44",
        "colab": {
          "base_uri": "https://localhost:8080/",
          "height": 159
        }
      },
      "source": [
        "para=[0,0]\n",
        "proba_max=0\n",
        "for beta in range(6,12):\n",
        "  for k in range(19,20):\n",
        "    proba=1    \n",
        "    for n in range(len(y)):\n",
        "      proba=proba*distribution_Boltzmann(index=n,beta=beta,X=X,y=y,k=k,get=\"conditional\",y_i=y[n])\n",
        "    print(\"proba(likelihood)=\",proba,\"beta=\",beta,\"k=\",k)\n",
        "    if proba>proba_max:\n",
        "      proba_max = proba \n",
        "      para[0]=beta\n",
        "      para[1]=k\n",
        "print(\"max_likelihood=\",proba)\n",
        "print(\"with beta=\",para[0],\"k=\",para[1])"
      ],
      "execution_count": 200,
      "outputs": [
        {
          "output_type": "stream",
          "text": [
            "proba(likelihood)= 3.329670349335595e-07 beta= 6 k= 19\n",
            "proba(likelihood)= 3.7646655405684843e-07 beta= 7 k= 19\n",
            "proba(likelihood)= 2.499842013264491e-07 beta= 8 k= 19\n",
            "proba(likelihood)= 1.2601141149120943e-07 beta= 9 k= 19\n",
            "proba(likelihood)= 5.43137152678324e-08 beta= 10 k= 19\n",
            "proba(likelihood)= 2.123127163324674e-08 beta= 11 k= 19\n",
            "max_likelihood= 2.123127163324674e-08\n",
            "with beta= 7 k= 19\n"
          ],
          "name": "stdout"
        }
      ]
    },
    {
      "cell_type": "code",
      "metadata": {
        "id": "Dx7zFuy4Lx78",
        "colab_type": "code",
        "colab": {}
      },
      "source": [
        "distribution_Boltzmann(index=2,beta=beta,X=X,y=y,k=k,get=\"conditional\",y_i=y[n])"
      ],
      "execution_count": 0,
      "outputs": []
    },
    {
      "cell_type": "code",
      "metadata": {
        "id": "syWp5752Iofq",
        "colab_type": "code",
        "outputId": "90841d30-101c-4117-bc50-519eb5fdc15c",
        "colab": {
          "base_uri": "https://localhost:8080/",
          "height": 52
        }
      },
      "source": [
        "para=[0,0]\n",
        "proba_max=0\n",
        "for beta in range(2,10):\n",
        "  for k in range(2,40):\n",
        "    proba=1    \n",
        "    for n in range(len(y)):\n",
        "      proba=proba*distribution_Boltzmann(index=n,beta=beta,X=X,y=y,k=k,get=\"conditional\",y_i=y[n])\n",
        "   # print(\"proba(likelihood)=\",proba,\"beta=\",beta,\"k=\",k)\n",
        "    if proba>proba_max:\n",
        "      proba_max = proba \n",
        "      para[0]=beta\n",
        "      para[1]=k\n",
        "print(\"max_likelihood=\",proba)\n",
        "print(\"with beta=\",para[0],\"k=\",para[1])"
      ],
      "execution_count": 0,
      "outputs": [
        {
          "output_type": "stream",
          "text": [
            "max_likelihood= 4.193036117121635e-13\n",
            "with beta= 3 k= 7\n"
          ],
          "name": "stdout"
        }
      ]
    },
    {
      "cell_type": "code",
      "metadata": {
        "id": "DbHHoIC4Duoq",
        "colab_type": "code",
        "outputId": "601bd554-50e2-4be4-a227-4d633d5da9ac",
        "colab": {
          "base_uri": "https://localhost:8080/",
          "height": 35
        }
      },
      "source": [
        "distribution_Boltzmann(index=1,beta=1,X=X,y=y,k=5,get=\"conditional\",y_i=y[1])**150"
      ],
      "execution_count": 0,
      "outputs": [
        {
          "output_type": "execute_result",
          "data": {
            "text/plain": [
              "2.483444616225093e-16"
            ]
          },
          "metadata": {
            "tags": []
          },
          "execution_count": 31
        }
      ]
    },
    {
      "cell_type": "code",
      "metadata": {
        "id": "hqVyFEeQAzGN",
        "colab_type": "code",
        "outputId": "d9874a31-fdc1-48c7-f7f4-ef7c2f5b7b23",
        "colab": {
          "base_uri": "https://localhost:8080/",
          "height": 35
        }
      },
      "source": [
        "para=[0,0]\n",
        "proba_max=0\n",
        "for beta in range(4):\n",
        "  for k in range(10,40):\n",
        "    proba=0    \n",
        "    for n in range(len(y)):\n",
        "      proba=proba*distribution_Boltzmann(index=n,beta=beta,X=X,y=y,k=k,get=\"conditional\",y_i=y[n])\n",
        "\n",
        "    if proba>proba_max:\n",
        "      proba_max = proba \n",
        "      para[0]=beta\n",
        "      para[1]=k\n",
        "print(proba)"
      ],
      "execution_count": 0,
      "outputs": [
        {
          "output_type": "execute_result",
          "data": {
            "text/plain": [
              "[15, 16, 17, 18, 19]"
            ]
          },
          "metadata": {
            "tags": []
          },
          "execution_count": 21
        }
      ]
    },
    {
      "cell_type": "code",
      "metadata": {
        "id": "xSzi65FmC2H-",
        "colab_type": "code",
        "outputId": "1584deeb-bb04-47ac-958f-baa92218e47e",
        "colab": {
          "base_uri": "https://localhost:8080/",
          "height": 35
        }
      },
      "source": [
        "len(range(10,30))"
      ],
      "execution_count": 0,
      "outputs": [
        {
          "output_type": "execute_result",
          "data": {
            "text/plain": [
              "20"
            ]
          },
          "metadata": {
            "tags": []
          },
          "execution_count": 23
        }
      ]
    },
    {
      "cell_type": "code",
      "metadata": {
        "colab_type": "code",
        "outputId": "eecbc0c9-92ec-4794-94c5-d24e962c17a9",
        "id": "4GICT67IA4RW",
        "colab": {
          "base_uri": "https://localhost:8080/",
          "height": 34
        }
      },
      "source": [
        "distribution_Boltzmann(index=0,beta=2,X=X,y=y,k=40,get=\"joint\")"
      ],
      "execution_count": 0,
      "outputs": [
        {
          "output_type": "execute_result",
          "data": {
            "text/plain": [
              "array([0.96466316, 0.01766842, 0.01766842])"
            ]
          },
          "metadata": {
            "tags": []
          },
          "execution_count": 193
        }
      ]
    },
    {
      "cell_type": "code",
      "metadata": {
        "id": "1nh5lv5wAoXa",
        "colab_type": "code",
        "colab": {}
      },
      "source": [
        "# formula 8\n",
        "def pseudo_likelihood_approximation(beta,X,y,k):\n",
        "    classifier = knn()\n",
        "    classifier.fit(X,y,k) \n",
        "    prob=1\n",
        "    for i in range(len(y)):\n",
        "\n",
        "        Train_x_temp = X\n",
        "        Train_y_temp = y\n",
        "        Train_x_temp=np.delete(X, i, axis=0)\n",
        "        Train_y_temp=np.delete(y, i, axis=0)\n",
        "        classifier_temp = knn()\n",
        "        classifier_temp.fit(Train_x_temp,Train_y_temp,k) \n",
        "        neighbors_index = classifier_temp.get_neighbours(X[i])\n",
        "        up_left_sum = classifier_temp.potential_function(X[i], y[i])\n",
        "        up_right_sum = classifier.mutual_neighbours(i,y[i])\n",
        "\n",
        "        up_sum = np.exp((beta/k)*(up_left_sum+up_right_sum))\n",
        "             \n",
        "        down_sum = 0\n",
        "        for g in range(2):\n",
        "          down_left_sum = classifier_temp.potential_function(X[i],g)\n",
        "          down_right_sum = classifier.mutual_neighbours(i,y_i=g)\n",
        "          print(np.exp((beta/k)*(down_left_sum + down_right_sum)))\n",
        "          down_sum += np.exp((beta/k)*(down_left_sum + down_right_sum))\n",
        "        print(\"-------\")\n",
        "        # print(\"up\",up_sum)\n",
        "        # print(\"down\",down_sum)\n",
        "        # print(\"down\",down__sum)\n",
        "        # print(\"all\",(up_sum/down_sum))\n",
        "        prob = prob*(up_sum/down_sum)\n",
        "      \n",
        "    return prob\n"
      ],
      "execution_count": 0,
      "outputs": []
    },
    {
      "cell_type": "code",
      "metadata": {
        "id": "L02qWtziIy97",
        "colab_type": "code",
        "colab": {
          "base_uri": "https://localhost:8080/",
          "height": 1000
        },
        "outputId": "99ad2418-deaa-472e-a529-c983b3357336"
      },
      "source": [
        "pseudo_likelihood_approximation(beta=10,X=X[:100],y=y[:100],k=10)"
      ],
      "execution_count": 194,
      "outputs": [
        {
          "output_type": "stream",
          "text": [
            "485165195.4097903\n",
            "1.0\n",
            "-------\n",
            "485165195.4097903\n",
            "1.0\n",
            "-------\n",
            "485165195.4097903\n",
            "1.0\n",
            "-------\n",
            "485165195.4097903\n",
            "1.0\n",
            "-------\n",
            "485165195.4097903\n",
            "1.0\n",
            "-------\n",
            "24154952.7535753\n",
            "1.0\n",
            "-------\n",
            "485165195.4097903\n",
            "1.0\n",
            "-------\n",
            "485165195.4097903\n",
            "1.0\n",
            "-------\n",
            "485165195.4097903\n",
            "1.0\n",
            "-------\n",
            "485165195.4097903\n",
            "1.0\n",
            "-------\n",
            "485165195.4097903\n",
            "1.0\n",
            "-------\n",
            "485165195.4097903\n",
            "1.0\n",
            "-------\n",
            "485165195.4097903\n",
            "1.0\n",
            "-------\n",
            "24154952.7535753\n",
            "1.0\n",
            "-------\n",
            "485165195.4097903\n",
            "1.0\n",
            "-------\n",
            "485165195.4097903\n",
            "1.0\n",
            "-------\n",
            "485165195.4097903\n",
            "1.0\n",
            "-------\n",
            "485165195.4097903\n",
            "1.0\n",
            "-------\n",
            "485165195.4097903\n",
            "1.0\n",
            "-------\n",
            "485165195.4097903\n",
            "1.0\n",
            "-------\n",
            "485165195.4097903\n",
            "1.0\n",
            "-------\n",
            "485165195.4097903\n",
            "1.0\n",
            "-------\n",
            "485165195.4097903\n",
            "1.0\n",
            "-------\n",
            "65659969.13733051\n",
            "1.0\n",
            "-------\n",
            "485165195.4097903\n",
            "1.0\n",
            "-------\n",
            "485165195.4097903\n",
            "1.0\n",
            "-------\n",
            "485165195.4097903\n",
            "1.0\n",
            "-------\n",
            "485165195.4097903\n",
            "1.0\n",
            "-------\n",
            "485165195.4097903\n",
            "1.0\n",
            "-------\n",
            "485165195.4097903\n",
            "1.0\n",
            "-------\n",
            "485165195.4097903\n",
            "1.0\n",
            "-------\n",
            "485165195.4097903\n",
            "1.0\n",
            "-------\n",
            "485165195.4097903\n",
            "1.0\n",
            "-------\n",
            "485165195.4097903\n",
            "1.0\n",
            "-------\n",
            "485165195.4097903\n",
            "1.0\n",
            "-------\n",
            "485165195.4097903\n",
            "1.0\n",
            "-------\n",
            "485165195.4097903\n",
            "1.0\n",
            "-------\n",
            "485165195.4097903\n",
            "1.0\n",
            "-------\n",
            "485165195.4097903\n",
            "1.0\n",
            "-------\n",
            "485165195.4097903\n",
            "1.0\n",
            "-------\n",
            "485165195.4097903\n",
            "1.0\n",
            "-------\n",
            "485165195.4097903\n",
            "1.0\n",
            "-------\n",
            "485165195.4097903\n",
            "1.0\n",
            "-------\n",
            "485165195.4097903\n",
            "1.0\n",
            "-------\n",
            "65659969.13733051\n",
            "1.0\n",
            "-------\n",
            "485165195.4097903\n",
            "1.0\n",
            "-------\n",
            "485165195.4097903\n",
            "1.0\n",
            "-------\n",
            "485165195.4097903\n",
            "1.0\n",
            "-------\n",
            "485165195.4097903\n",
            "1.0\n",
            "-------\n",
            "485165195.4097903\n",
            "1.0\n",
            "-------\n",
            "1.0\n",
            "485165195.4097903\n",
            "-------\n",
            "1.0\n",
            "8886110.520507872\n",
            "-------\n",
            "1.0\n",
            "24154952.7535753\n",
            "-------\n",
            "1.0\n",
            "485165195.4097903\n",
            "-------\n",
            "1.0\n",
            "65659969.13733051\n",
            "-------\n",
            "1.0\n",
            "485165195.4097903\n",
            "-------\n",
            "1.0\n",
            "3269017.3724721107\n",
            "-------\n",
            "1.0\n",
            "24154952.7535753\n",
            "-------\n",
            "1.0\n",
            "485165195.4097903\n",
            "-------\n",
            "1.0\n",
            "485165195.4097903\n",
            "-------\n",
            "1.0\n",
            "65659969.13733051\n",
            "-------\n",
            "1.0\n",
            "65659969.13733051\n",
            "-------\n",
            "1.0\n",
            "65659969.13733051\n",
            "-------\n",
            "1.0\n",
            "178482300.96318725\n",
            "-------\n",
            "1.0\n",
            "485165195.4097903\n",
            "-------\n",
            "1.0\n",
            "485165195.4097903\n",
            "-------\n",
            "1.0\n",
            "485165195.4097903\n",
            "-------\n",
            "1.0\n",
            "178482300.96318725\n",
            "-------\n",
            "1.0\n",
            "24154952.7535753\n",
            "-------\n",
            "1.0\n",
            "178482300.96318725\n",
            "-------\n",
            "1.0\n",
            "24154952.7535753\n",
            "-------\n",
            "1.0\n",
            "485165195.4097903\n",
            "-------\n",
            "1.0\n",
            "485165195.4097903\n",
            "-------\n",
            "1.0\n",
            "485165195.4097903\n",
            "-------\n",
            "1.0\n",
            "485165195.4097903\n",
            "-------\n",
            "1.0\n",
            "485165195.4097903\n",
            "-------\n",
            "1.0\n",
            "485165195.4097903\n",
            "-------\n",
            "1.0\n",
            "485165195.4097903\n",
            "-------\n",
            "1.0\n",
            "485165195.4097903\n",
            "-------\n",
            "1.0\n",
            "485165195.4097903\n",
            "-------\n",
            "1.0\n",
            "65659969.13733051\n",
            "-------\n",
            "1.0\n",
            "178482300.96318725\n",
            "-------\n",
            "1.0\n",
            "485165195.4097903\n",
            "-------\n",
            "1.0\n",
            "65659969.13733051\n",
            "-------\n",
            "1.0\n",
            "24154952.7535753\n",
            "-------\n",
            "1.0\n",
            "485165195.4097903\n",
            "-------\n",
            "1.0\n",
            "485165195.4097903\n",
            "-------\n",
            "1.0\n",
            "485165195.4097903\n",
            "-------\n",
            "1.0\n",
            "485165195.4097903\n",
            "-------\n",
            "1.0\n",
            "485165195.4097903\n",
            "-------\n",
            "1.0\n",
            "485165195.4097903\n",
            "-------\n",
            "1.0\n",
            "485165195.4097903\n",
            "-------\n",
            "1.0\n",
            "485165195.4097903\n",
            "-------\n",
            "1.0\n",
            "178482300.96318725\n",
            "-------\n",
            "1.0\n",
            "485165195.4097903\n",
            "-------\n",
            "1.0\n",
            "485165195.4097903\n",
            "-------\n",
            "1.0\n",
            "485165195.4097903\n",
            "-------\n",
            "1.0\n",
            "485165195.4097903\n",
            "-------\n",
            "1.0\n",
            "485165195.4097903\n",
            "-------\n",
            "1.0\n",
            "485165195.4097903\n",
            "-------\n"
          ],
          "name": "stdout"
        },
        {
          "output_type": "execute_result",
          "data": {
            "text/plain": [
              "0.999998981143644"
            ]
          },
          "metadata": {
            "tags": []
          },
          "execution_count": 194
        }
      ]
    },
    {
      "cell_type": "code",
      "metadata": {
        "id": "TNqSBjy7GJdn",
        "colab_type": "code",
        "colab": {
          "base_uri": "https://localhost:8080/",
          "height": 584
        },
        "outputId": "79a328cb-8223-47d6-e44d-7b60ae5cdeb7"
      },
      "source": [
        "para=[0,0]\n",
        "proba_max=0\n",
        "for beta in range(1,4):\n",
        "  for k in range(15,25):   \n",
        "    proba = pseudo_likelihood_approximation(beta=beta,X=X[:100],y=y[:100],k=k)\n",
        "    print(\"proba(likelihood)=\",proba,\"beta=\",beta,\"k=\",k)\n",
        "    if proba>proba_max:\n",
        "      proba_max = proba \n",
        "      para[0]=beta\n",
        "      para[1]=k\n",
        "print(\"max_likelihood=\",proba)\n",
        "print(\"with beta=\",para[0],\"k=\",para[1])"
      ],
      "execution_count": 168,
      "outputs": [
        {
          "output_type": "stream",
          "text": [
            "proba(likelihood)= 2.150587883423428e-06 beta= 1 k= 15\n",
            "proba(likelihood)= 2.2913028752162813e-06 beta= 1 k= 16\n",
            "proba(likelihood)= 2.4104366120215427e-06 beta= 1 k= 17\n",
            "proba(likelihood)= 2.4422853709241676e-06 beta= 1 k= 18\n",
            "proba(likelihood)= 2.505200368511912e-06 beta= 1 k= 19\n",
            "proba(likelihood)= 2.6380739056673394e-06 beta= 1 k= 20\n",
            "proba(likelihood)= 2.674646903385198e-06 beta= 1 k= 21\n",
            "proba(likelihood)= 2.7838990619525254e-06 beta= 1 k= 22\n",
            "proba(likelihood)= 2.7820943497531344e-06 beta= 1 k= 23\n",
            "proba(likelihood)= 2.7272978343036745e-06 beta= 1 k= 24\n",
            "proba(likelihood)= 0.14417668669735972 beta= 2 k= 15\n",
            "proba(likelihood)= 0.1473474419101697 beta= 2 k= 16\n",
            "proba(likelihood)= 0.1500958709178722 beta= 2 k= 17\n",
            "proba(likelihood)= 0.15074389669653537 beta= 2 k= 18\n",
            "proba(likelihood)= 0.15199941636832828 beta= 2 k= 19\n",
            "proba(likelihood)= 0.15487609377324593 beta= 2 k= 20\n",
            "proba(likelihood)= 0.15560761362695066 beta= 2 k= 21\n",
            "proba(likelihood)= 0.1575930022660789 beta= 2 k= 22\n",
            "proba(likelihood)= 0.15761050066745025 beta= 2 k= 23\n",
            "proba(likelihood)= 0.15636220780329474 beta= 2 k= 24\n",
            "proba(likelihood)= 0.7587863900972314 beta= 3 k= 15\n",
            "proba(likelihood)= 0.7626892192313764 beta= 3 k= 16\n",
            "proba(likelihood)= 0.7662054091360953 beta= 3 k= 17\n",
            "proba(likelihood)= 0.7669618881605101 beta= 3 k= 18\n",
            "proba(likelihood)= 0.7683536882792538 beta= 3 k= 19\n",
            "proba(likelihood)= 0.771961447040931 beta= 3 k= 20\n",
            "proba(likelihood)= 0.7728115642765652 beta= 3 k= 21\n",
            "proba(likelihood)= 0.7749233409355489 beta= 3 k= 22\n",
            "proba(likelihood)= 0.7750110503978845 beta= 3 k= 23\n",
            "proba(likelihood)= 0.7733431401938076 beta= 3 k= 24\n",
            "max_likelihood= 0.7733431401938076\n",
            "with beta= 3 k= 23\n"
          ],
          "name": "stdout"
        }
      ]
    },
    {
      "cell_type": "code",
      "metadata": {
        "id": "ggtOz2OcPi5F",
        "colab_type": "code",
        "outputId": "1caf86ca-44f6-4b54-aed3-b1b4aaeb21bc",
        "colab": {
          "base_uri": "https://localhost:8080/",
          "height": 35
        }
      },
      "source": [
        "pseudo_likelihood_approximation(beta=10,X=X[:100],y=y[:100],k=20)"
      ],
      "execution_count": 172,
      "outputs": [
        {
          "output_type": "execute_result",
          "data": {
            "text/plain": [
              "0.9999997309756896"
            ]
          },
          "metadata": {
            "tags": []
          },
          "execution_count": 172
        }
      ]
    },
    {
      "cell_type": "code",
      "metadata": {
        "id": "mkDz0vQJY4gq",
        "colab_type": "code",
        "outputId": "ed31c8e3-8775-48f2-b61b-990dbbfd2302",
        "colab": {
          "base_uri": "https://localhost:8080/",
          "height": 123
        }
      },
      "source": [
        "np.arange(len(y[:100]))"
      ],
      "execution_count": 0,
      "outputs": [
        {
          "output_type": "execute_result",
          "data": {
            "text/plain": [
              "array([ 0,  1,  2,  3,  4,  5,  6,  7,  8,  9, 10, 11, 12, 13, 14, 15, 16,\n",
              "       17, 18, 19, 20, 21, 22, 23, 24, 25, 26, 27, 28, 29, 30, 31, 32, 33,\n",
              "       34, 35, 36, 37, 38, 39, 40, 41, 42, 43, 44, 45, 46, 47, 48, 49, 50,\n",
              "       51, 52, 53, 54, 55, 56, 57, 58, 59, 60, 61, 62, 63, 64, 65, 66, 67,\n",
              "       68, 69, 70, 71, 72, 73, 74, 75, 76, 77, 78, 79, 80, 81, 82, 83, 84,\n",
              "       85, 86, 87, 88, 89, 90, 91, 92, 93, 94, 95, 96, 97, 98, 99])"
            ]
          },
          "metadata": {
            "tags": []
          },
          "execution_count": 63
        }
      ]
    },
    {
      "cell_type": "code",
      "metadata": {
        "id": "l0oosUjKI0t7",
        "colab_type": "code",
        "colab": {}
      },
      "source": [
        "# formula 8\n",
        "def pseudo_likelihood_approximation(beta,X,y,k, l=0):\n",
        "    classifier = knn()\n",
        "    classifier.fit(X,y,k)\n",
        "    prod = 1\n",
        "    for i in range(len(y)):\n",
        "        first_sum = classifier.potential_function(X[i], y[l]) + classifier.potential_function(X[l], y[i])\n",
        "        up = np.exp((beta/k)*first_sum)\n",
        "        second_sum = 0\n",
        "        for g in range(2):\n",
        "            second_sum += classifier.potential_function(X[i],g) + classifier.potential_function(X[l],g)\n",
        "        down = np.exp((beta/k)*(second_sum))\n",
        "        prod *= (up/down)\n",
        "    return prod"
      ],
      "execution_count": 0,
      "outputs": []
    },
    {
      "cell_type": "code",
      "metadata": {
        "id": "V3LYoKv7TDtZ",
        "colab_type": "code",
        "outputId": "2fe5724f-7a98-42a1-a4c4-ba2cc0e63419",
        "colab": {
          "base_uri": "https://localhost:8080/",
          "height": 35
        }
      },
      "source": [
        "list(range(2))"
      ],
      "execution_count": 0,
      "outputs": [
        {
          "output_type": "execute_result",
          "data": {
            "text/plain": [
              "[0, 1]"
            ]
          },
          "metadata": {
            "tags": []
          },
          "execution_count": 37
        }
      ]
    },
    {
      "cell_type": "code",
      "metadata": {
        "id": "iPn2V3OmMV2-",
        "colab_type": "code",
        "outputId": "c7c797ce-ac48-47f1-91e1-dfed003c6276",
        "colab": {
          "base_uri": "https://localhost:8080/",
          "height": 34
        }
      },
      "source": [
        "combined_predictors(X_given=[1,2,56,105],beta=2,k=40,X=X,y=y,y_given=[0,0,1,1,2])"
      ],
      "execution_count": 0,
      "outputs": [
        {
          "output_type": "execute_result",
          "data": {
            "text/plain": [
              "0.04636203643022069"
            ]
          },
          "metadata": {
            "tags": []
          },
          "execution_count": 128
        }
      ]
    },
    {
      "cell_type": "code",
      "metadata": {
        "id": "obHaXPHzOATl",
        "colab_type": "code",
        "outputId": "0311e8f4-50d1-4c5c-92e0-7893e7968022",
        "colab": {
          "base_uri": "https://localhost:8080/",
          "height": 35
        }
      },
      "source": [
        "distribution(index=101,beta=2,X=X,y=y,k=40,get=\"joint\")"
      ],
      "execution_count": 0,
      "outputs": [
        {
          "output_type": "execute_result",
          "data": {
            "text/plain": [
              "[0.1527730325550456, 0.34000263672116615, 0.5072243307237883]"
            ]
          },
          "metadata": {
            "tags": []
          },
          "execution_count": 19
        }
      ]
    },
    {
      "cell_type": "code",
      "metadata": {
        "id": "xptds7GeXWhd",
        "colab_type": "code",
        "outputId": "eabad55d-2558-4d89-8bf5-0ae947dc3cca",
        "colab": {
          "base_uri": "https://localhost:8080/",
          "height": 35
        }
      },
      "source": [
        "distribution(index=101,beta=2,X=X,y=y,k=40,get=\"conditional\",y_i=2)"
      ],
      "execution_count": 0,
      "outputs": [
        {
          "output_type": "execute_result",
          "data": {
            "text/plain": [
              "0.5072243307237883"
            ]
          },
          "metadata": {
            "tags": []
          },
          "execution_count": 11
        }
      ]
    },
    {
      "cell_type": "code",
      "metadata": {
        "id": "83swuJEQn7uu",
        "colab_type": "code",
        "colab": {}
      },
      "source": [
        "classifier = knn()"
      ],
      "execution_count": 0,
      "outputs": []
    },
    {
      "cell_type": "code",
      "metadata": {
        "id": "zMPeenSqoNG7",
        "colab_type": "code",
        "colab": {
          "base_uri": "https://localhost:8080/",
          "height": 35
        },
        "outputId": "04637ada-2785-4519-f5e4-bb881965505f"
      },
      "source": [
        "classifier.fit(X,y,10)\n",
        "print(classifier.mutual_neighbours(123,y_i=2))"
      ],
      "execution_count": 143,
      "outputs": [
        {
          "output_type": "stream",
          "text": [
            "7\n"
          ],
          "name": "stdout"
        }
      ]
    },
    {
      "cell_type": "code",
      "metadata": {
        "id": "VE0pI2Lp4c6Y",
        "colab_type": "code",
        "outputId": "861565db-fa01-4f01-966f-d2ffe88b2572",
        "colab": {
          "base_uri": "https://localhost:8080/",
          "height": 548
        }
      },
      "source": [
        "for i in range(60,90):\n",
        "  print(classifier.mutual_neighbours(i,y_i=1))"
      ],
      "execution_count": 142,
      "outputs": [
        {
          "output_type": "stream",
          "text": [
            "8\n",
            "8\n",
            "9\n",
            "6\n",
            "10\n",
            "10\n",
            "10\n",
            "8\n",
            "5\n",
            "8\n",
            "5\n",
            "10\n",
            "5\n",
            "9\n",
            "10\n",
            "10\n",
            "9\n",
            "5\n",
            "8\n",
            "9\n",
            "8\n",
            "9\n",
            "10\n",
            "1\n",
            "7\n",
            "8\n",
            "10\n",
            "10\n",
            "10\n",
            "10\n"
          ],
          "name": "stdout"
        }
      ]
    },
    {
      "cell_type": "code",
      "metadata": {
        "id": "8XILSS76oZQH",
        "colab_type": "code",
        "outputId": "f292a968-ff2d-42ed-a2f0-8da06d3f0de7",
        "colab": {
          "base_uri": "https://localhost:8080/",
          "height": 35
        }
      },
      "source": [
        "classifier.potential_function(X[101],2)"
      ],
      "execution_count": 0,
      "outputs": [
        {
          "output_type": "execute_result",
          "data": {
            "text/plain": [
              "25"
            ]
          },
          "metadata": {
            "tags": []
          },
          "execution_count": 77
        }
      ]
    },
    {
      "cell_type": "code",
      "metadata": {
        "id": "m-i0F_DVHBL7",
        "colab_type": "code",
        "outputId": "fa38336b-2aa5-460c-ed4b-48184e38ef53",
        "colab": {
          "base_uri": "https://localhost:8080/",
          "height": 35
        }
      },
      "source": [
        "avg = np.average(minimums).astype(int)\n",
        "print(avg)"
      ],
      "execution_count": 0,
      "outputs": [
        {
          "output_type": "stream",
          "text": [
            "18\n"
          ],
          "name": "stdout"
        }
      ]
    },
    {
      "cell_type": "code",
      "metadata": {
        "id": "EI7Hqqp68Mm1",
        "colab_type": "code",
        "colab": {}
      },
      "source": [
        "all_error = np.array(all_error)\n",
        "minimums = np.flatnonzero(all_error == all_error.min())"
      ],
      "execution_count": 0,
      "outputs": []
    }
  ]
}