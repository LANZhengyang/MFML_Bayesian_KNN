{
  "nbformat": 4,
  "nbformat_minor": 0,
  "metadata": {
    "colab": {
      "name": "KNN_radio.ipynb",
      "provenance": [],
      "authorship_tag": "ABX9TyPU/uA5VXTqrsA/gsqewtec",
      "include_colab_link": true
    },
    "kernelspec": {
      "name": "python3",
      "display_name": "Python 3"
    }
  },
  "cells": [
    {
      "cell_type": "markdown",
      "metadata": {
        "id": "view-in-github",
        "colab_type": "text"
      },
      "source": [
        "<a href=\"https://colab.research.google.com/github/LANZhengyang/MFML_Bayesian_KNN/blob/master/KNN_radio.ipynb\" target=\"_parent\"><img src=\"https://colab.research.google.com/assets/colab-badge.svg\" alt=\"Open In Colab\"/></a>"
      ]
    },
    {
      "cell_type": "code",
      "metadata": {
        "id": "gVqEWIUgOagg",
        "colab_type": "code",
        "colab": {}
      },
      "source": [
        "import numpy as np\n",
        "import matplotlib.pyplot as plt\n",
        "from matplotlib.colors import ListedColormap\n",
        "from sklearn import neighbors, datasets\n",
        "from functools import reduce\n",
        "import time"
      ],
      "execution_count": 0,
      "outputs": []
    },
    {
      "cell_type": "markdown",
      "metadata": {
        "id": "ecIWBH_2eUjM",
        "colab_type": "text"
      },
      "source": [
        "## KNN radio way"
      ]
    },
    {
      "cell_type": "code",
      "metadata": {
        "id": "AVF6ycCvOpcK",
        "colab_type": "code",
        "colab": {}
      },
      "source": [
        "class knn_radio():\n",
        "    def fit(self,X,y):\n",
        "        self.X = X\n",
        "        self.y=y\n",
        "\n",
        "    def distance(self,x_1,x_2):        \n",
        "        return np.linalg.norm(x_1-x_2,ord=self.X.shape[1])   \n",
        "\n",
        "    def predict(self,x):\n",
        "        field=[0,0,0] \n",
        "        for i in range(self.y.shape[0]):\n",
        "            field[y[i]] += 1/(self.distance(x,self.X[i]))**self.X.shape[1]    \n",
        "        return np.argmax(field)\n",
        "    def cross_validation(self):\n",
        "        error = 0\n",
        "        for i in range(self.y.shape[0]):\n",
        "          classifier_cv = knn_radio()\n",
        "          Train_x=np.delete(self.X, index, axis=0)\n",
        "          Train_y=np.delete(self.y, index, axis=0)\n",
        "          classifier_cv.fit(Train_x,Train_y)\n",
        "          for j in range(self.y.shape[0]-1):\n",
        "            if classifier_cv.predict(Train_x[j]) != Train_y[j]:\n",
        "              error += 1/(self.y.shape[0]-1)\n",
        "\n",
        "        return error/self.y.shape[0]\n",
        "\n"
      ],
      "execution_count": 0,
      "outputs": []
    },
    {
      "cell_type": "code",
      "metadata": {
        "id": "tm01GEQzP62L",
        "colab_type": "code",
        "colab": {}
      },
      "source": [
        "  # train knn radio\n",
        "  classifier = knn_radio()\n",
        "  classifier.fit(X,y)\n"
      ],
      "execution_count": 0,
      "outputs": []
    },
    {
      "cell_type": "code",
      "metadata": {
        "id": "anT-NyR2QIYD",
        "colab_type": "code",
        "colab": {
          "base_uri": "https://localhost:8080/",
          "height": 110
        },
        "outputId": "ae90ac7e-dfee-44dd-9985-53d5e71c2852"
      },
      "source": [
        "time_start=time.time()\n",
        "print(\"error rate=\",classifier.cross_validation())\n",
        "time_end=time.time()\n",
        "print('time cost',time_end-time_start,'s')\n"
      ],
      "execution_count": 34,
      "outputs": [
        {
          "output_type": "stream",
          "text": [
            "/usr/local/lib/python3.6/dist-packages/ipykernel_launcher.py:12: RuntimeWarning: divide by zero encountered in double_scalars\n",
            "  if sys.path[0] == '':\n"
          ],
          "name": "stderr"
        },
        {
          "output_type": "stream",
          "text": [
            "error rate= 0.013422818791946402\n",
            "time cost 42.31606912612915 s\n"
          ],
          "name": "stdout"
        }
      ]
    },
    {
      "cell_type": "markdown",
      "metadata": {
        "id": "s9zMqiEaeJvs",
        "colab_type": "text"
      },
      "source": [
        "## Original KNN"
      ]
    },
    {
      "cell_type": "code",
      "metadata": {
        "id": "aiD2qHMcOjw8",
        "colab_type": "code",
        "colab": {
          "base_uri": "https://localhost:8080/",
          "height": 297
        },
        "outputId": "8bc96a42-7a30-41c6-aef3-8460836f4e73"
      },
      "source": [
        "iris = datasets.load_iris()\n",
        "X = iris.data\n",
        "y = iris.target\n",
        "\n",
        "time_start=time.time()\n",
        "all_error = []\n",
        "# test k from 2 to 30\n",
        "for k in range(2,30):\n",
        "  sum=0\n",
        "  for i in range(len(y)):\n",
        "    # Do the cross validation\n",
        "    Train_x=np.delete(X, i, axis=0)\n",
        "    Train_y=np.delete(y, i, axis=0)\n",
        "    neigh = neighbors.KNeighborsClassifier(n_neighbors=k)\n",
        "    neigh.fit(Train_x, Train_y)\n",
        "    for j in range(y.shape[0]-1):\n",
        "      if neigh.predict(X[i][np.newaxis, :]) != y[i]:\n",
        "        sum=sum+ 1/ (y.shape[0]-1)\n",
        "  sum = sum/ (len(y))\n",
        "  all_error.append(sum)\n",
        "\n",
        "plt.bar(range(2,30),all_error)\n",
        "plt.xlabel(\"k\")\n",
        "plt.ylabel(\"Error rate\")\n",
        "\n",
        "time_end=time.time()\n",
        "print('time cost',time_end-time_start,'s')"
      ],
      "execution_count": 37,
      "outputs": [
        {
          "output_type": "stream",
          "text": [
            "time cost 381.1704697608948 s\n"
          ],
          "name": "stdout"
        },
        {
          "output_type": "display_data",
          "data": {
            "image/png": "[encoded data removed]",
            "text/plain": [
              "<Figure size 432x288 with 1 Axes>"
            ]
          },
          "metadata": {
            "tags": [],
            "needs_background": "light"
          }
        }
      ]
    },
    {
      "cell_type": "code",
      "metadata": {
        "id": "a1spE5gGaF2C",
        "colab_type": "code",
        "colab": {}
      },
      "source": [
        ""
      ],
      "execution_count": 0,
      "outputs": []
    }
  ]
}